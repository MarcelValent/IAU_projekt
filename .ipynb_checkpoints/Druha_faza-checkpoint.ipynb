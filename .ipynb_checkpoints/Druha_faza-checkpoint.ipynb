{
 "cells": [
  {
   "cell_type": "code",
   "execution_count": 102,
   "metadata": {},
   "outputs": [],
   "source": [
    "import pylab as py\n",
    "import pandas as pd\n",
    "import numpy as np\n",
    "import matplotlib.pyplot as plt\n",
    "import seaborn as sns\n",
    "from sklearn.base import TransformerMixin,BaseEstimator\n",
    "from datetime import datetime\n",
    "from datetime import date\n",
    "import scipy.stats as stats\n",
    "from sklearn.feature_selection import SelectFromModel\n",
    "from sklearn.linear_model import LogisticRegression\n",
    "from sklearn.model_selection import train_test_split\n",
    "from sklearn.pipeline import Pipeline\n",
    "from sklearn.preprocessing import MinMaxScaler\n",
    "from sklearn.preprocessing import PowerTransformer\n",
    "from sklearn.feature_selection import RFE\n",
    "from sklearn.svm import SVR\n",
    "from sklearn.impute import KNNImputer\n",
    "pd.options.mode.chained_assignment = None  # default='warn'\n",
    "sns.set_palette(\"mako\")"
   ]
  },
  {
   "cell_type": "markdown",
   "metadata": {},
   "source": [
    "### Načítanie a čistenie dát"
   ]
  },
  {
   "cell_type": "code",
   "execution_count": 103,
   "metadata": {},
   "outputs": [],
   "source": [
    "stations= pd.read_csv(\"data/stations.csv\", sep=\"\\t\")\n",
    "measurements= pd.read_csv(\"data/measurements.csv\", sep=\"\\t\")"
   ]
  },
  {
   "cell_type": "code",
   "execution_count": 104,
   "metadata": {},
   "outputs": [
    {
     "name": "stdout",
     "output_type": "stream",
     "text": [
      "<class 'pandas.core.frame.DataFrame'>\n",
      "RangeIndex: 12128 entries, 0 to 12127\n",
      "Data columns (total 18 columns):\n",
      " #   Column     Non-Null Count  Dtype  \n",
      "---  ------     --------------  -----  \n",
      " 0   PAHs       12080 non-null  float64\n",
      " 1   PM10       12079 non-null  float64\n",
      " 2   C2H3NO5    12079 non-null  float64\n",
      " 3   O3         12079 non-null  float64\n",
      " 4   NH3        12080 non-null  float64\n",
      " 5   Pb         12079 non-null  float64\n",
      " 6   PRES       12128 non-null  float64\n",
      " 7   CFCs       12079 non-null  float64\n",
      " 8   longitude  12128 non-null  float64\n",
      " 9   SO2        12079 non-null  float64\n",
      " 10  latitude   12128 non-null  float64\n",
      " 11  NOx        12078 non-null  float64\n",
      " 12  warning    12079 non-null  float64\n",
      " 13  CO         12079 non-null  float64\n",
      " 14  CH4        12079 non-null  float64\n",
      " 15  PM2.5      12080 non-null  float64\n",
      " 16  H2CO       12080 non-null  float64\n",
      " 17  TEMP       12080 non-null  float64\n",
      "dtypes: float64(18)\n",
      "memory usage: 1.7 MB\n"
     ]
    }
   ],
   "source": [
    "measurements.info()"
   ]
  },
  {
   "cell_type": "code",
   "execution_count": 105,
   "metadata": {},
   "outputs": [
    {
     "name": "stdout",
     "output_type": "stream",
     "text": [
      "<class 'pandas.core.frame.DataFrame'>\n",
      "RangeIndex: 1051 entries, 0 to 1050\n",
      "Data columns (total 6 columns):\n",
      " #   Column     Non-Null Count  Dtype  \n",
      "---  ------     --------------  -----  \n",
      " 0   station    1051 non-null   object \n",
      " 1   latitude   1051 non-null   float64\n",
      " 2   code       1050 non-null   object \n",
      " 3   revision   1051 non-null   object \n",
      " 4   QoS        1051 non-null   object \n",
      " 5   longitude  1051 non-null   float64\n",
      "dtypes: float64(2), object(4)\n",
      "memory usage: 49.4+ KB\n"
     ]
    }
   ],
   "source": [
    "stations.info()"
   ]
  },
  {
   "cell_type": "markdown",
   "metadata": {},
   "source": [
    "Skontrolujeme, či sú jednotlivé 'latitude' jedinečné, a podľa nich joineme."
   ]
  },
  {
   "cell_type": "code",
   "execution_count": 106,
   "metadata": {},
   "outputs": [
    {
     "data": {
      "text/plain": [
       "True"
      ]
     },
     "execution_count": 106,
     "metadata": {},
     "output_type": "execute_result"
    }
   ],
   "source": [
    "latitude_s = stations[\"latitude\"].unique().sort()\n",
    "latitude_m = measurements[\"latitude\"].unique().sort()\n",
    "np.array_equal(latitude_s, latitude_m)"
   ]
  },
  {
   "cell_type": "markdown",
   "metadata": {},
   "source": [
    "Sú rovnaké, preto môžeme ich spojiť. Taktiež odstránime duplicitný stĺpec ktorý nám vznikne."
   ]
  },
  {
   "cell_type": "code",
   "execution_count": 107,
   "metadata": {},
   "outputs": [
    {
     "name": "stdout",
     "output_type": "stream",
     "text": [
      "<class 'pandas.core.frame.DataFrame'>\n",
      "Int64Index: 25540 entries, 0 to 25539\n",
      "Data columns (total 22 columns):\n",
      " #   Column     Non-Null Count  Dtype  \n",
      "---  ------     --------------  -----  \n",
      " 0   PAHs       25447 non-null  float64\n",
      " 1   PM10       25437 non-null  float64\n",
      " 2   C2H3NO5    25444 non-null  float64\n",
      " 3   O3         25435 non-null  float64\n",
      " 4   NH3        25448 non-null  float64\n",
      " 5   Pb         25435 non-null  float64\n",
      " 6   PRES       25540 non-null  float64\n",
      " 7   CFCs       25447 non-null  float64\n",
      " 8   SO2        25434 non-null  float64\n",
      " 9   latitude   25540 non-null  float64\n",
      " 10  NOx        25443 non-null  float64\n",
      " 11  warning    25427 non-null  float64\n",
      " 12  CO         25437 non-null  float64\n",
      " 13  CH4        25442 non-null  float64\n",
      " 14  PM2.5      25434 non-null  float64\n",
      " 15  H2CO       25443 non-null  float64\n",
      " 16  TEMP       25438 non-null  float64\n",
      " 17  station    25540 non-null  object \n",
      " 18  code       25529 non-null  object \n",
      " 19  revision   25540 non-null  object \n",
      " 20  QoS        25540 non-null  object \n",
      " 21  longitude  25540 non-null  float64\n",
      "dtypes: float64(18), object(4)\n",
      "memory usage: 4.5+ MB\n"
     ]
    }
   ],
   "source": [
    "data = pd.merge(measurements, stations, on = [\"latitude\"], how = \"left\")\n",
    "data.drop(columns=[\"longitude_x\"], inplace=True)\n",
    "data.rename(columns={'longitude_y': 'longitude'}, inplace=True)\n",
    "data.info()"
   ]
  },
  {
   "cell_type": "markdown",
   "metadata": {},
   "source": [
    "Ukážka dát po spojení."
   ]
  },
  {
   "cell_type": "code",
   "execution_count": 108,
   "metadata": {},
   "outputs": [
    {
     "data": {
      "text/html": [
       "<div>\n",
       "<style scoped>\n",
       "    .dataframe tbody tr th:only-of-type {\n",
       "        vertical-align: middle;\n",
       "    }\n",
       "\n",
       "    .dataframe tbody tr th {\n",
       "        vertical-align: top;\n",
       "    }\n",
       "\n",
       "    .dataframe thead th {\n",
       "        text-align: right;\n",
       "    }\n",
       "</style>\n",
       "<table border=\"1\" class=\"dataframe\">\n",
       "  <thead>\n",
       "    <tr style=\"text-align: right;\">\n",
       "      <th></th>\n",
       "      <th>PAHs</th>\n",
       "      <th>PM10</th>\n",
       "      <th>C2H3NO5</th>\n",
       "      <th>O3</th>\n",
       "      <th>NH3</th>\n",
       "      <th>Pb</th>\n",
       "      <th>PRES</th>\n",
       "      <th>CFCs</th>\n",
       "      <th>SO2</th>\n",
       "      <th>latitude</th>\n",
       "      <th>...</th>\n",
       "      <th>CO</th>\n",
       "      <th>CH4</th>\n",
       "      <th>PM2.5</th>\n",
       "      <th>H2CO</th>\n",
       "      <th>TEMP</th>\n",
       "      <th>station</th>\n",
       "      <th>code</th>\n",
       "      <th>revision</th>\n",
       "      <th>QoS</th>\n",
       "      <th>longitude</th>\n",
       "    </tr>\n",
       "  </thead>\n",
       "  <tbody>\n",
       "    <tr>\n",
       "      <th>0</th>\n",
       "      <td>7.22628</td>\n",
       "      <td>9.07079</td>\n",
       "      <td>2.63533</td>\n",
       "      <td>9.95652</td>\n",
       "      <td>9.21864</td>\n",
       "      <td>29.98802</td>\n",
       "      <td>1093.16157</td>\n",
       "      <td>67.38361</td>\n",
       "      <td>9.89682</td>\n",
       "      <td>-5.85746</td>\n",
       "      <td>...</td>\n",
       "      <td>8.36810</td>\n",
       "      <td>9.75090</td>\n",
       "      <td>10.19732</td>\n",
       "      <td>59.16382</td>\n",
       "      <td>1.58478</td>\n",
       "      <td>Mount Hagen</td>\n",
       "      <td>PG</td>\n",
       "      <td>26 Sep 2019</td>\n",
       "      <td>average</td>\n",
       "      <td>144.23058</td>\n",
       "    </tr>\n",
       "    <tr>\n",
       "      <th>1</th>\n",
       "      <td>7.22628</td>\n",
       "      <td>9.07079</td>\n",
       "      <td>2.63533</td>\n",
       "      <td>9.95652</td>\n",
       "      <td>9.21864</td>\n",
       "      <td>29.98802</td>\n",
       "      <td>1093.16157</td>\n",
       "      <td>67.38361</td>\n",
       "      <td>9.89682</td>\n",
       "      <td>-5.85746</td>\n",
       "      <td>...</td>\n",
       "      <td>8.36810</td>\n",
       "      <td>9.75090</td>\n",
       "      <td>10.19732</td>\n",
       "      <td>59.16382</td>\n",
       "      <td>1.58478</td>\n",
       "      <td>Mount Hagen</td>\n",
       "      <td>PG</td>\n",
       "      <td>17 Dec 2021</td>\n",
       "      <td>average</td>\n",
       "      <td>144.23058</td>\n",
       "    </tr>\n",
       "    <tr>\n",
       "      <th>2</th>\n",
       "      <td>7.22628</td>\n",
       "      <td>9.07079</td>\n",
       "      <td>2.63533</td>\n",
       "      <td>9.95652</td>\n",
       "      <td>9.21864</td>\n",
       "      <td>29.98802</td>\n",
       "      <td>1093.16157</td>\n",
       "      <td>67.38361</td>\n",
       "      <td>9.89682</td>\n",
       "      <td>-5.85746</td>\n",
       "      <td>...</td>\n",
       "      <td>8.36810</td>\n",
       "      <td>9.75090</td>\n",
       "      <td>10.19732</td>\n",
       "      <td>59.16382</td>\n",
       "      <td>1.58478</td>\n",
       "      <td>Mount Hagen</td>\n",
       "      <td>PG</td>\n",
       "      <td>17 Mar 2016</td>\n",
       "      <td>good</td>\n",
       "      <td>144.23058</td>\n",
       "    </tr>\n",
       "    <tr>\n",
       "      <th>3</th>\n",
       "      <td>10.39372</td>\n",
       "      <td>8.25541</td>\n",
       "      <td>1.19707</td>\n",
       "      <td>8.98772</td>\n",
       "      <td>9.82297</td>\n",
       "      <td>47.15361</td>\n",
       "      <td>1063.43896</td>\n",
       "      <td>69.62954</td>\n",
       "      <td>8.29285</td>\n",
       "      <td>8.88649</td>\n",
       "      <td>...</td>\n",
       "      <td>8.47772</td>\n",
       "      <td>9.60717</td>\n",
       "      <td>7.09990</td>\n",
       "      <td>65.37280</td>\n",
       "      <td>13.19832</td>\n",
       "      <td>Tchaourou</td>\n",
       "      <td>BJ</td>\n",
       "      <td>12 Mar 2015</td>\n",
       "      <td>good</td>\n",
       "      <td>2.59753</td>\n",
       "    </tr>\n",
       "    <tr>\n",
       "      <th>4</th>\n",
       "      <td>9.56441</td>\n",
       "      <td>8.43278</td>\n",
       "      <td>1.32137</td>\n",
       "      <td>4.43270</td>\n",
       "      <td>8.08426</td>\n",
       "      <td>47.94224</td>\n",
       "      <td>1111.55551</td>\n",
       "      <td>77.84035</td>\n",
       "      <td>8.42276</td>\n",
       "      <td>10.10649</td>\n",
       "      <td>...</td>\n",
       "      <td>8.97045</td>\n",
       "      <td>8.89398</td>\n",
       "      <td>8.22953</td>\n",
       "      <td>47.62991</td>\n",
       "      <td>3.92248</td>\n",
       "      <td>Alwaye</td>\n",
       "      <td>IN</td>\n",
       "      <td>30 May 2021</td>\n",
       "      <td>average</td>\n",
       "      <td>76.35484</td>\n",
       "    </tr>\n",
       "  </tbody>\n",
       "</table>\n",
       "<p>5 rows × 22 columns</p>\n",
       "</div>"
      ],
      "text/plain": [
       "       PAHs     PM10  C2H3NO5       O3      NH3        Pb        PRES  \\\n",
       "0   7.22628  9.07079  2.63533  9.95652  9.21864  29.98802  1093.16157   \n",
       "1   7.22628  9.07079  2.63533  9.95652  9.21864  29.98802  1093.16157   \n",
       "2   7.22628  9.07079  2.63533  9.95652  9.21864  29.98802  1093.16157   \n",
       "3  10.39372  8.25541  1.19707  8.98772  9.82297  47.15361  1063.43896   \n",
       "4   9.56441  8.43278  1.32137  4.43270  8.08426  47.94224  1111.55551   \n",
       "\n",
       "       CFCs      SO2  latitude  ...       CO      CH4     PM2.5      H2CO  \\\n",
       "0  67.38361  9.89682  -5.85746  ...  8.36810  9.75090  10.19732  59.16382   \n",
       "1  67.38361  9.89682  -5.85746  ...  8.36810  9.75090  10.19732  59.16382   \n",
       "2  67.38361  9.89682  -5.85746  ...  8.36810  9.75090  10.19732  59.16382   \n",
       "3  69.62954  8.29285   8.88649  ...  8.47772  9.60717   7.09990  65.37280   \n",
       "4  77.84035  8.42276  10.10649  ...  8.97045  8.89398   8.22953  47.62991   \n",
       "\n",
       "       TEMP      station  code     revision      QoS  longitude  \n",
       "0   1.58478  Mount Hagen    PG  26 Sep 2019  average  144.23058  \n",
       "1   1.58478  Mount Hagen    PG  17 Dec 2021  average  144.23058  \n",
       "2   1.58478  Mount Hagen    PG  17 Mar 2016     good  144.23058  \n",
       "3  13.19832    Tchaourou    BJ  12 Mar 2015     good    2.59753  \n",
       "4   3.92248       Alwaye    IN  30 May 2021  average   76.35484  \n",
       "\n",
       "[5 rows x 22 columns]"
      ]
     },
     "execution_count": 108,
     "metadata": {},
     "output_type": "execute_result"
    }
   ],
   "source": [
    "data.head()"
   ]
  },
  {
   "cell_type": "markdown",
   "metadata": {},
   "source": [
    "Upravíme si formát dátumu v stĺpci revision"
   ]
  },
  {
   "cell_type": "code",
   "execution_count": null,
   "metadata": {
    "pycharm": {
     "is_executing": true
    }
   },
   "outputs": [],
   "source": [
    "data[[\"revision\"]]=data[[\"revision\"]].apply(pd.to_datetime)"
   ]
  },
  {
   "cell_type": "code",
   "execution_count": null,
   "metadata": {
    "pycharm": {
     "is_executing": true
    }
   },
   "outputs": [],
   "source": [
    "data.QoS.unique()"
   ]
  },
  {
   "cell_type": "markdown",
   "metadata": {},
   "source": [
    "Keďže potrebujeme len číselné hodnoty, tak si prehodíme QoS na integer podľa nasledovného kľúča:\\\n",
    "0 - excellent\\\n",
    "1 - good\\\n",
    "2 - average\\\n",
    "3 - acceptable\\\n",
    "4 - maintenance\\\n",
    "5 - building"
   ]
  },
  {
   "cell_type": "code",
   "execution_count": null,
   "metadata": {
    "pycharm": {
     "is_executing": true
    }
   },
   "outputs": [],
   "source": [
    "data.loc[data['QoS'] == 'accep','QoS']=3\n",
    "data.loc[data['QoS'] == 'acceptable','QoS']=3\n",
    "data.loc[data['QoS'] == 'good','QoS']=1\n",
    "data.loc[data['QoS'] == 'excellent','QoS']=0\n",
    "data.loc[data['QoS'] == 'average','QoS']=2\n",
    "data.loc[data['QoS'] == 'building','QoS']=5\n",
    "data.loc[data['QoS'] == 'maitennce','QoS']=4\n",
    "data.loc[data['QoS'] == 'maintenance','QoS']=4\n",
    "data['QoS'] = pd.to_numeric(data['QoS'])\n",
    "data.QoS.unique()"
   ]
  },
  {
   "cell_type": "markdown",
   "metadata": {},
   "source": [
    "Odstránime duplicitné záznamy"
   ]
  },
  {
   "cell_type": "code",
   "execution_count": null,
   "metadata": {
    "pycharm": {
     "is_executing": true
    }
   },
   "outputs": [],
   "source": [
    "tmp = data.duplicated()\n",
    "tmp = tmp[tmp == True].count()\n",
    "print('Počet duplicitných záznamov: '+ str(tmp))"
   ]
  },
  {
   "cell_type": "code",
   "execution_count": null,
   "metadata": {
    "pycharm": {
     "is_executing": true
    }
   },
   "outputs": [],
   "source": [
    "data = data.drop_duplicates()\n",
    "tmp = data.duplicated()\n",
    "tmp = tmp[tmp == True].count()\n",
    "print('Počet duplicitných záznamov: '+ str(tmp))"
   ]
  },
  {
   "cell_type": "code",
   "execution_count": null,
   "metadata": {
    "pycharm": {
     "is_executing": true
    }
   },
   "outputs": [],
   "source": [
    "data.describe()"
   ]
  },
  {
   "cell_type": "markdown",
   "metadata": {},
   "source": [
    "TOTO ESTE OPISAT"
   ]
  },
  {
   "cell_type": "code",
   "execution_count": null,
   "metadata": {
    "pycharm": {
     "is_executing": true
    }
   },
   "outputs": [],
   "source": [
    "data.insert(17, 'QoS', data.pop('QoS'))\n",
    "data.insert(18, 'longitude', data.pop('longitude'))"
   ]
  },
  {
   "cell_type": "markdown",
   "metadata": {},
   "source": [
    "### Odstránenie NA hodnôt\n",
    "Ako prvé skúsime metódu s odstránením riadkov, kde chýbajú hodnoty."
   ]
  },
  {
   "cell_type": "code",
   "execution_count": null,
   "metadata": {
    "pycharm": {
     "is_executing": true
    }
   },
   "outputs": [],
   "source": [
    "data['code']= data['code'].fillna('NO_CODE')\n",
    "tmp_data = data.copy()\n",
    "tmp_data.dropna(inplace=True)"
   ]
  },
  {
   "cell_type": "code",
   "execution_count": null,
   "metadata": {
    "pycharm": {
     "is_executing": true
    }
   },
   "outputs": [],
   "source": [
    "len(data) - len(tmp_data)"
   ]
  },
  {
   "cell_type": "code",
   "execution_count": null,
   "metadata": {
    "pycharm": {
     "is_executing": true
    }
   },
   "outputs": [],
   "source": [
    "plt.figure(figsize=(25,25))\n",
    "sns.heatmap(data.iloc[: , :19].corr(), annot=True, fmt=\".3f\", linewidths=.5, square = True, cmap = 'BuGn');"
   ]
  },
  {
   "cell_type": "code",
   "execution_count": null,
   "metadata": {
    "pycharm": {
     "is_executing": true
    }
   },
   "outputs": [],
   "source": [
    "plt.figure(figsize=(25,25))\n",
    "sns.heatmap(tmp_data.iloc[: , :19].corr(), annot=True, fmt=\".3f\", linewidths=.5, square = True, cmap = 'BuGn');"
   ]
  },
  {
   "cell_type": "markdown",
   "metadata": {},
   "source": [
    "Vytvorenie pomocnej funkcie na výpočet korelácie s pôvodnými dátami."
   ]
  },
  {
   "cell_type": "code",
   "execution_count": null,
   "metadata": {
    "pycharm": {
     "is_executing": true
    }
   },
   "outputs": [],
   "source": [
    "def findCorrelation(tmp_data):\n",
    "    return (tmp_data.iloc[: , :19].corr() - data.iloc[: , :19].corr()).max()\n"
   ]
  },
  {
   "cell_type": "markdown",
   "metadata": {},
   "source": [
    "Výpočet korelácie metódou zmananím."
   ]
  },
  {
   "cell_type": "code",
   "execution_count": null,
   "metadata": {
    "pycharm": {
     "is_executing": true
    }
   },
   "outputs": [],
   "source": [
    "findCorrelation(tmp_data)"
   ]
  },
  {
   "cell_type": "markdown",
   "metadata": {},
   "source": [
    "Výhodou tohto prístupu je, že sa nám heatmapa zmenila len minimálne. Nevýhodou je, že nám zmizlo 1454 záznamov.\n",
    "To nám predstavuje 5.73% dát."
   ]
  },
  {
   "cell_type": "code",
   "execution_count": null,
   "metadata": {
    "pycharm": {
     "is_executing": true
    }
   },
   "outputs": [],
   "source": [
    "(len(data)-len(tmp_data))/(len(data)) * 100"
   ]
  },
  {
   "cell_type": "markdown",
   "metadata": {},
   "source": [
    "2. metóda je nahradenie N/A hodnôt mediánom "
   ]
  },
  {
   "cell_type": "code",
   "execution_count": null,
   "metadata": {
    "pycharm": {
     "is_executing": true
    }
   },
   "outputs": [],
   "source": [
    "# Copy data to test replacing missing values by median\n",
    "temp_data_median = data.copy()\n",
    "# Replace missing values by median\n",
    "temp_data_median.fillna(temp_data_median.median(), inplace=True)\n"
   ]
  },
  {
   "cell_type": "markdown",
   "metadata": {},
   "source": [
    "Vidíme, že žiadne údaje sme nestratili"
   ]
  },
  {
   "cell_type": "code",
   "execution_count": null,
   "metadata": {
    "pycharm": {
     "is_executing": true
    }
   },
   "outputs": [],
   "source": [
    "temp_data_median.isnull().sum()\n",
    "(len(data)-len(temp_data_median))/(len(data)) * 100"
   ]
  },
  {
   "cell_type": "code",
   "execution_count": null,
   "metadata": {
    "pycharm": {
     "is_executing": true
    }
   },
   "outputs": [],
   "source": [
    "print(\"Korelácia po nahradení chýbajúcich hodnôt medianom\")\n",
    "findCorrelation(temp_data_median)"
   ]
  },
  {
   "cell_type": "markdown",
   "metadata": {},
   "source": [
    "Heatmapa sa zmenila ešte menej, a nestratili sme žiadne dáta."
   ]
  },
  {
   "cell_type": "markdown",
   "metadata": {},
   "source": [
    "V ďalšon postupne už vieme, že nám dáta nezmiznú, tak si pripravíme nahradenie priemerom, pomerom ku korelovanému atribútu, lineárnou regresinou kNN \n"
   ]
  },
  {
   "cell_type": "code",
   "execution_count": null,
   "metadata": {
    "pycharm": {
     "is_executing": true
    }
   },
   "outputs": [],
   "source": [
    "# Priemer\n",
    "tmp_data_average = data.copy()\n",
    "tmp_data_average.fillna(tmp_data_average.mean(), inplace=True)\n",
    "tmp_data_average.isnull().sum()\n",
    "print(\"Stratené dáta priemerom: \", (len(data)-len(tmp_data_average))/(len(data)) * 100)\n",
    "print(\"Korelácia po nahradení chýbajúcich hodnôt priemerom\")\n",
    "findCorrelation(tmp_data_average)\n"
   ]
  },
  {
   "cell_type": "code",
   "execution_count": null,
   "metadata": {
    "pycharm": {
     "is_executing": true
    }
   },
   "outputs": [],
   "source": [
    "# kNN linear regression\n",
    "tmp_data_knn = data.copy()\n",
    "imputer = KNNImputer(n_neighbors=2)\n",
    "\n",
    "tmp_data_measurements = tmp_data_knn.iloc[:, :19]\n",
    "tmp_data_measurements = imputer.fit_transform(tmp_data_measurements)\n",
    "tmp_data_knn.iloc[:, :19] = tmp_data_measurements\n",
    "tmp_data_knn.isnull().sum()\n",
    "print(\"Stratené dáta kNN: \", (len(data)-len(tmp_data_knn))/(len(data)) * 100)\n",
    "print(\"Korelácia po nahradení chýbajúcich hodnôt kNN\")\n",
    "findCorrelation(tmp_data_knn)\n"
   ]
  },
  {
   "cell_type": "markdown",
   "metadata": {},
   "source": [
    "Nájdeme, ktorá z metód bola najefektívnejšia (korelácie sú najbližšie k nule)"
   ]
  },
  {
   "cell_type": "code",
   "execution_count": null,
   "metadata": {
    "pycharm": {
     "is_executing": true
    }
   },
   "outputs": [],
   "source": [
    "# Compare the results, to see which method is the best\n",
    "# Median average difference from 0\n",
    "print(\"Priemerová odchýlka od 0 po nahradení chýbajúcich hodnôt medianom: \", abs(temp_data_median.iloc[: , :19].corr() - data.iloc[: , :19].corr()).mean().mean())\n",
    "# Average average difference from 0\n",
    "print(\"Priemerová odchýlka od 0 po nahradení chýbajúcich hodnôt priemerom: \", abs(tmp_data_average.iloc[: , :19].corr() - data.iloc[: , :19].corr()).mean().mean())\n",
    "# kNN average difference from 0\n",
    "print(\"Priemerová odchýlka od 0 po nahradení chýbajúcich hodnôt kNN: \", abs(tmp_data_knn.iloc[: , :19].corr() - data.iloc[: , :19].corr()).mean().mean())\n",
    "\n",
    "\n",
    "  "
   ]
  },
  {
   "cell_type": "markdown",
   "metadata": {},
   "source": [
    "Z priemerových odchýliek vidíme, že najlepšie pre nás bude použiť nahradenie hodnôt priemerom.   "
   ]
  },
  {
   "cell_type": "code",
   "execution_count": null,
   "metadata": {
    "pycharm": {
     "is_executing": true
    }
   },
   "outputs": [],
   "source": [
    "# Replace original data with data with replaced missing values by method mean\n",
    "data = tmp_data_average.copy()\n",
    "   "
   ]
  }
 ],
 "metadata": {
  "kernelspec": {
   "display_name": "Python 3 (ipykernel)",
   "language": "python",
   "name": "python3"
  },
  "language_info": {
   "codemirror_mode": {
    "name": "ipython",
    "version": 3
   },
   "file_extension": ".py",
   "mimetype": "text/x-python",
   "name": "python",
   "nbconvert_exporter": "python",
   "pygments_lexer": "ipython3",
   "version": "3.10.7"
  },
  "vscode": {
   "interpreter": {
    "hash": "5c8e42a3dac0faee0e0c2883c0f973475060a82b3b025487599155f21df6ee92"
   }
  }
 },
 "nbformat": 4,
 "nbformat_minor": 1
}
