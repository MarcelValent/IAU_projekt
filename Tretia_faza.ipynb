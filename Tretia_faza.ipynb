{
 "cells": [
  {
   "attachments": {},
   "cell_type": "markdown",
   "metadata": {},
   "source": [
    "# Fáza 3 - Strojové učenie (v 12. týždni): 20 bodov\n",
    "Pri dátovej analýze nemusí byť naším cieľom získať len znalosti obsiahnuté v aktuálnych dátach, ale aj natrénovať model, ktorý bude schopný robiť rozumné predikcie pre nové pozorovania pomocou techniky strojového učenia. \n",
    "## Jednoduchý klasifikátor na základe závislosti v dátach  (5b)\n",
    "Naimplementujte OneR algorithm (iné mená: OneRule or 1R), ktorý je jednoduchý klasifikátor tzv. rozhodnutie na základe jedného atribútu. Môžete implementovať aj komplikovanejšie t.j. rozhodnutie na základe kombinácie atribútov.\n",
    "Algoritmus by mal byť realizovaný na základe závislostí v dátach. Vyhodnoťte klasifikátora pomocou metrík accuracy, precision a recall.\n",
    "## Trénovanie a vyhodnotenie klasifikátorov strojového učenia (5b)\n",
    "Na trénovanie využite minimálne jeden stromový algoritmus strojového učenia v scikit-learn.\n",
    "Vizualizujte natrénované pravidlá.\n",
    "Vyhodnoťte natrénované modely pomocou metrík accuracy, precision a recall\n",
    "Porovnajte ašpoň jeden natrénovaný klasifikátor v scikit-learn s jednoduchým klasifikátorom z prvého kroku.\n",
    "## Optimalizácia alias hyperparameter tuning (5b)\n",
    "Preskúmajte hyperparametre Vášho zvoleného klasifikačného algoritmu v druhom kroku a vyskúšajte ich rôzne nastavenie tak, aby ste minimalizovali overfitting (preučenie) a optimalizovali výsledok. \n",
    "Vysvetlite, čo jednotlivé hyperparametre robia. Pri nastavovaní hyperparametrov algoritmu využite krížovú validáciu (cross validation) na trénovacej množine.\n",
    "## Vyhodnotenie vplyvu zvolenej stratégie riešenia na klasifikáciu (5b) \n",
    "Vyhodnotíte Vami zvolené stratégie riešenia projektu z hľadiska classification accuracy: \n",
    "Stratégie riešenia chýbajúcich hodnôt a outlierov;\n",
    "Scaling resp. transformer či zlepší accuracy klasifikácie;\n",
    "Výber atribútov a výber algoritmov strojového učenia;\n",
    "Hyperparameter tuning resp. ensemble learning.\n",
    "Ktoré spôsoby z hore-uvedených bodov sa ukázali ako učinné pre Váš dataset? Hodnotenie podložíte dôkazmi. \n",
    "\n",
    "Správa sa odovzdáva v poslednom týždni semestra. Dvojica svojmu cvičiacemu odprezentuje vykonanú fázu v Jupyter Notebooku podľa potreby na cvičení. V notebooku uveďte percentuálny podiel práce členov dvojice. Následne správu elektronicky odovzdá jeden člen z dvojice do systému AIS do štvrtka 15.12.2022 23:59."
   ]
  },
  {
   "attachments": {},
   "cell_type": "markdown",
   "metadata": {},
   "source": [
    "Naimportovanie knižníc, ktoré budeme používať"
   ]
  },
  {
   "cell_type": "code",
   "execution_count": 13,
   "metadata": {},
   "outputs": [],
   "source": [
    "import numpy as np\n",
    "import pandas as pd\n",
    "import seaborn as sns\n",
    "from sklearn import tree\n",
    "import scipy.stats as stats\n",
    "import matplotlib.pyplot as plt\n",
    "from sklearn.pipeline import Pipeline\n",
    "from sklearn.base import TransformerMixin\n",
    "from sklearn.metrics import accuracy_score\n",
    "from sklearn.metrics import precision_score\n",
    "from sklearn.metrics import recall_score\n",
    "from sklearn.model_selection import cross_val_score\n",
    "from sklearn.model_selection import RandomizedSearchCV\n",
    "from sklearn import metrics\n",
    "from sklearn.model_selection import GridSearchCV\n",
    "from sklearn.ensemble import RandomForestClassifier\n",
    "from sklearn.metrics import classification_report, confusion_matrix\n",
    "from sklearn.feature_selection import SelectFromModel\n",
    "from sklearn.linear_model import LogisticRegression\n",
    "from sklearn.model_selection import train_test_split\n",
    "from sklearn.pipeline import Pipeline\n",
    "from sklearn.preprocessing import MinMaxScaler\n",
    "from sklearn.preprocessing import PowerTransformer\n",
    "from sklearn.feature_selection import RFE\n",
    "from sklearn.svm import SVR\n",
    "from sklearn.impute import KNNImputer\n",
    "  \n",
    "\n"
   ]
  },
  {
   "attachments": {},
   "cell_type": "markdown",
   "metadata": {},
   "source": [
    "Nazačiatok si naimportujeme dáta, ktoré si hneď nakopírujeme, aby sme neprepisovali originály"
   ]
  },
  {
   "cell_type": "code",
   "execution_count": 14,
   "metadata": {},
   "outputs": [],
   "source": [
    "train = pd.read_csv('training_data.csv',sep=\"\\t\")\n",
    "test = pd.read_csv('testing_data.csv',sep=\"\\t\")\n",
    "\n",
    "# Vytvorenie kopie datasetu\n",
    "train_copy = train.copy()\n",
    "test_copy = test.copy()"
   ]
  },
  {
   "attachments": {},
   "cell_type": "markdown",
   "metadata": {},
   "source": [
    "Trieda OneRule obsahuje inicialalizáciu, ktorá nám vytvorí prazdné premenné a metriku, ktorú budeme ohodnocovať klasifikáciu. \n",
    "Táto funkcia berie tréningové údaje ako vstup a používa ich na učenie sa súboru pravidiel, ktoré možno použiť na predpovedanie nových údajov. Funkcia iterovať cez trénovacie údaje a používame ich na identifikáciu najdôležitejších pravidiel. Tieto pravidlá možno potom použiť na predpovedanie nových údajov."
   ]
  },
  {
   "attachments": {},
   "cell_type": "markdown",
   "metadata": {},
   "source": [
    " Funkcia predict v algoritme OneRule sa používa na predpovedanie nových údajov na základe pravidiel, ktoré sa model naučil počas tréningu. \n",
    " Táto funkcia aplikuje pravidlá na vstupné dáta, ktoré do nej vložíme"
   ]
  },
  {
   "attachments": {},
   "cell_type": "markdown",
   "metadata": {},
   "source": [
    "Funkcia score v algoritme OneRule sa používa na vyhodnotenie výkonu modelu v danom súbore údajov. Funkcia najprv použije funkciu predpovedania na generovanie predpovedí pre vstupné údaje a potom porovná predpovedané hodnoty so skutočnými hodnotami na výpočet presnosti modelu. Skóre presnosti sa potom môže použiť na vyhodnotenie výkonnosti modelu a určenie toho, ako dobre je schopný predpovedať nové údaje."
   ]
  },
  {
   "cell_type": "code",
   "execution_count": 15,
   "metadata": {},
   "outputs": [],
   "source": [
    "class OneRule:\n",
    "    def __init__(self, metric):\n",
    "        self.metric = metric\n",
    "        self.rule = None\n",
    "        self.rule_class = None\n",
    "\n",
    "    def fit(self, X, y):\n",
    "        classes = np.unique(y)\n",
    "        best_rule = None\n",
    "        best_rule_class = None\n",
    "        best_score = 0\n",
    "        for c in classes:\n",
    "            rule = X[y == c].mean()\n",
    "            score = self.score(X, y, rule, c)\n",
    "            if score > best_score:\n",
    "                best_score = score\n",
    "                best_rule = rule\n",
    "                best_rule_class = c\n",
    "        self.rule = best_rule\n",
    "        self.rule_class = best_rule_class\n",
    "\n",
    "    def predict(self, X):\n",
    "        return np.array([self.rule_class] * len(X))\n",
    "\n",
    "    def score(self, X, y, rule, rule_class):\n",
    "        y_pred = np.array([rule_class] * len(X))\n",
    "        print(y_pred)\n",
    "        y_pred[X < rule] = 1 - rule_class\n",
    "        if self.metric == 'accuracy':\n",
    "            return accuracy_score(y, y_pred)\n",
    "        elif self.metric == 'precision':\n",
    "            return precision_score(y, y_pred)\n",
    "        elif self.metric == 'recall':\n",
    "            # use zero_division=0 to avoid warning\n",
    "            return recall_score(y, y_pred, zero_division=\"0\")\n",
    "        else:\n",
    "            raise ValueError('Unknown metric: ' + self.metric)\n"
   ]
  },
  {
   "attachments": {},
   "cell_type": "markdown",
   "metadata": {},
   "source": [
    "Pripravíme si vstupy pre OneRule algoritmus\n",
    "Aplikujeme OneRule algoritmus na stĺpec s parametrom warning, takže ho môžeme vyradiť zo základu pre testovanie.\n",
    "X1 a X2 predstavujú hodnoty stĺpce, v ktorých nám v predchádzajúcich fázach zobrazili najvyššiu koreláciu so stĺpcom warning. "
   ]
  },
  {
   "cell_type": "code",
   "execution_count": 16,
   "metadata": {},
   "outputs": [],
   "source": [
    "X1 = train_copy[\"CH4\"].values\n",
    "X2 = train_copy[\"NOx\"].values\n",
    "y = train_copy['warning']"
   ]
  },
  {
   "attachments": {},
   "cell_type": "markdown",
   "metadata": {},
   "source": [
    "Aplikujeme OneRule algoritmus na stĺpec CH4 a zobrazíme výsledky"
   ]
  },
  {
   "cell_type": "code",
   "execution_count": 17,
   "metadata": {},
   "outputs": [
    {
     "name": "stdout",
     "output_type": "stream",
     "text": [
      "[0 0 0 ... 0 0 0]\n",
      "[1 1 1 ... 1 1 1]\n",
      "Column: CH4\n",
      "Rule: 0.6380420618263979\n",
      "Rule class: 0\n",
      "Accuracy: 0.4030812324929972\n",
      "Precision: 0.0\n",
      "Recall: 0.0\n"
     ]
    },
    {
     "name": "stderr",
     "output_type": "stream",
     "text": [
      "c:\\Users\\mattp\\AppData\\Local\\Programs\\Python\\Python311\\Lib\\site-packages\\sklearn\\metrics\\_classification.py:1334: UndefinedMetricWarning: Precision is ill-defined and being set to 0.0 due to no predicted samples. Use `zero_division` parameter to control this behavior.\n",
      "  _warn_prf(average, modifier, msg_start, len(result))\n"
     ]
    }
   ],
   "source": [
    "\n",
    "one_rule = OneRule(\"accuracy\")\n",
    "one_rule.fit(X1, y)\n",
    "\n",
    "y_pred = one_rule.predict(X1)\n",
    "\n",
    "print('Column: ' + \"CH4\")\n",
    "print('Rule: ' + str(one_rule.rule))\n",
    "print('Rule class: ' + str(one_rule.rule_class))\n",
    "print('Accuracy: ' + str(accuracy_score(y, y_pred)))\n",
    "print('Precision: ' + str(precision_score(y, y_pred)))\n",
    "print('Recall: ' + str(recall_score(y, y_pred)))"
   ]
  },
  {
   "attachments": {},
   "cell_type": "markdown",
   "metadata": {},
   "source": [
    "Aplikujeme OneRule algoritmus na stĺpec NOx a zobrazíme výsledky"
   ]
  },
  {
   "cell_type": "code",
   "execution_count": 18,
   "metadata": {},
   "outputs": [
    {
     "name": "stdout",
     "output_type": "stream",
     "text": [
      "[0 0 0 ... 0 0 0]\n",
      "[1 1 1 ... 1 1 1]\n",
      "Column: NOx\n",
      "Rule: 0.7173573186124478\n",
      "Rule class: 0\n",
      "Accuracy: 0.4030812324929972\n",
      "Precision: 0.0\n",
      "Recall: 0.0\n"
     ]
    },
    {
     "name": "stderr",
     "output_type": "stream",
     "text": [
      "c:\\Users\\mattp\\AppData\\Local\\Programs\\Python\\Python311\\Lib\\site-packages\\sklearn\\metrics\\_classification.py:1334: UndefinedMetricWarning: Precision is ill-defined and being set to 0.0 due to no predicted samples. Use `zero_division` parameter to control this behavior.\n",
      "  _warn_prf(average, modifier, msg_start, len(result))\n"
     ]
    }
   ],
   "source": [
    "one_rule = OneRule(\"accuracy\")\n",
    "one_rule.fit(X2, y)\n",
    "\n",
    "y_pred = one_rule.predict(X2)\n",
    "\n",
    "print('Column: ' + \"NOx\")\n",
    "print('Rule: ' + str(one_rule.rule))\n",
    "print('Rule class: ' + str(one_rule.rule_class))\n",
    "print('Accuracy: ' + str(accuracy_score(y, y_pred)))\n",
    "print('Precision: ' + str(precision_score(y, y_pred)))\n",
    "print('Recall: ' + str(recall_score(y, y_pred)))"
   ]
  },
  {
   "attachments": {},
   "cell_type": "markdown",
   "metadata": {},
   "source": [
    "Na rovnaký algoritmus použijeme DecisionTreeClassifier() z knižnice sklearn za účelom porovnania dát"
   ]
  },
  {
   "attachments": {},
   "cell_type": "markdown",
   "metadata": {},
   "source": [
    "Najprv si pripravíme dáta na vstup, rovnako v prípade vyššie"
   ]
  },
  {
   "cell_type": "code",
   "execution_count": 19,
   "metadata": {},
   "outputs": [],
   "source": [
    "X1 = train_copy[\"CH4\"]\n",
    "X2 = train_copy[\"NOx\"]\n",
    "y = train_copy['warning']"
   ]
  },
  {
   "attachments": {},
   "cell_type": "markdown",
   "metadata": {},
   "source": [
    "Vkladáme dáta do DecisionTreeClassifier a spustíme funkciu predikácie"
   ]
  },
  {
   "attachments": {},
   "cell_type": "markdown",
   "metadata": {},
   "source": [
    "DecisionTreeClassifier je typ algoritmu učenia, ktorý možno použiť na klasifikačné úlohy podobne ako OneRule algoritmus."
   ]
  },
  {
   "cell_type": "code",
   "execution_count": 21,
   "metadata": {},
   "outputs": [
    {
     "ename": "ValueError",
     "evalue": "Expected 2D array, got 1D array instead:\narray=[0.24955931 0.6458985  0.4529387  ... 0.27346253 0.7028762  0.08611478].\nReshape your data either using array.reshape(-1, 1) if your data has a single feature or array.reshape(1, -1) if it contains a single sample.",
     "output_type": "error",
     "traceback": [
      "\u001b[1;31m---------------------------------------------------------------------------\u001b[0m",
      "\u001b[1;31mValueError\u001b[0m                                Traceback (most recent call last)",
      "Cell \u001b[1;32mIn [21], line 2\u001b[0m\n\u001b[0;32m      1\u001b[0m clf \u001b[39m=\u001b[39m tree\u001b[39m.\u001b[39mDecisionTreeClassifier()\n\u001b[1;32m----> 2\u001b[0m clf \u001b[39m=\u001b[39m clf\u001b[39m.\u001b[39;49mfit(X1, y)\n",
      "File \u001b[1;32mc:\\Users\\mattp\\AppData\\Local\\Programs\\Python\\Python311\\Lib\\site-packages\\sklearn\\tree\\_classes.py:969\u001b[0m, in \u001b[0;36mDecisionTreeClassifier.fit\u001b[1;34m(self, X, y, sample_weight, check_input)\u001b[0m\n\u001b[0;32m    939\u001b[0m \u001b[39mdef\u001b[39;00m \u001b[39mfit\u001b[39m(\u001b[39mself\u001b[39m, X, y, sample_weight\u001b[39m=\u001b[39m\u001b[39mNone\u001b[39;00m, check_input\u001b[39m=\u001b[39m\u001b[39mTrue\u001b[39;00m):\n\u001b[0;32m    940\u001b[0m     \u001b[39m\"\"\"Build a decision tree classifier from the training set (X, y).\u001b[39;00m\n\u001b[0;32m    941\u001b[0m \n\u001b[0;32m    942\u001b[0m \u001b[39m    Parameters\u001b[39;00m\n\u001b[1;32m   (...)\u001b[0m\n\u001b[0;32m    966\u001b[0m \u001b[39m        Fitted estimator.\u001b[39;00m\n\u001b[0;32m    967\u001b[0m \u001b[39m    \"\"\"\u001b[39;00m\n\u001b[1;32m--> 969\u001b[0m     \u001b[39msuper\u001b[39;49m()\u001b[39m.\u001b[39;49mfit(\n\u001b[0;32m    970\u001b[0m         X,\n\u001b[0;32m    971\u001b[0m         y,\n\u001b[0;32m    972\u001b[0m         sample_weight\u001b[39m=\u001b[39;49msample_weight,\n\u001b[0;32m    973\u001b[0m         check_input\u001b[39m=\u001b[39;49mcheck_input,\n\u001b[0;32m    974\u001b[0m     )\n\u001b[0;32m    975\u001b[0m     \u001b[39mreturn\u001b[39;00m \u001b[39mself\u001b[39m\n",
      "File \u001b[1;32mc:\\Users\\mattp\\AppData\\Local\\Programs\\Python\\Python311\\Lib\\site-packages\\sklearn\\tree\\_classes.py:172\u001b[0m, in \u001b[0;36mBaseDecisionTree.fit\u001b[1;34m(self, X, y, sample_weight, check_input)\u001b[0m\n\u001b[0;32m    170\u001b[0m check_X_params \u001b[39m=\u001b[39m \u001b[39mdict\u001b[39m(dtype\u001b[39m=\u001b[39mDTYPE, accept_sparse\u001b[39m=\u001b[39m\u001b[39m\"\u001b[39m\u001b[39mcsc\u001b[39m\u001b[39m\"\u001b[39m)\n\u001b[0;32m    171\u001b[0m check_y_params \u001b[39m=\u001b[39m \u001b[39mdict\u001b[39m(ensure_2d\u001b[39m=\u001b[39m\u001b[39mFalse\u001b[39;00m, dtype\u001b[39m=\u001b[39m\u001b[39mNone\u001b[39;00m)\n\u001b[1;32m--> 172\u001b[0m X, y \u001b[39m=\u001b[39m \u001b[39mself\u001b[39;49m\u001b[39m.\u001b[39;49m_validate_data(\n\u001b[0;32m    173\u001b[0m     X, y, validate_separately\u001b[39m=\u001b[39;49m(check_X_params, check_y_params)\n\u001b[0;32m    174\u001b[0m )\n\u001b[0;32m    175\u001b[0m \u001b[39mif\u001b[39;00m issparse(X):\n\u001b[0;32m    176\u001b[0m     X\u001b[39m.\u001b[39msort_indices()\n",
      "File \u001b[1;32mc:\\Users\\mattp\\AppData\\Local\\Programs\\Python\\Python311\\Lib\\site-packages\\sklearn\\base.py:591\u001b[0m, in \u001b[0;36mBaseEstimator._validate_data\u001b[1;34m(self, X, y, reset, validate_separately, **check_params)\u001b[0m\n\u001b[0;32m    589\u001b[0m \u001b[39mif\u001b[39;00m \u001b[39m\"\u001b[39m\u001b[39mestimator\u001b[39m\u001b[39m\"\u001b[39m \u001b[39mnot\u001b[39;00m \u001b[39min\u001b[39;00m check_X_params:\n\u001b[0;32m    590\u001b[0m     check_X_params \u001b[39m=\u001b[39m {\u001b[39m*\u001b[39m\u001b[39m*\u001b[39mdefault_check_params, \u001b[39m*\u001b[39m\u001b[39m*\u001b[39mcheck_X_params}\n\u001b[1;32m--> 591\u001b[0m X \u001b[39m=\u001b[39m check_array(X, input_name\u001b[39m=\u001b[39;49m\u001b[39m\"\u001b[39;49m\u001b[39mX\u001b[39;49m\u001b[39m\"\u001b[39;49m, \u001b[39m*\u001b[39;49m\u001b[39m*\u001b[39;49mcheck_X_params)\n\u001b[0;32m    592\u001b[0m \u001b[39mif\u001b[39;00m \u001b[39m\"\u001b[39m\u001b[39mestimator\u001b[39m\u001b[39m\"\u001b[39m \u001b[39mnot\u001b[39;00m \u001b[39min\u001b[39;00m check_y_params:\n\u001b[0;32m    593\u001b[0m     check_y_params \u001b[39m=\u001b[39m {\u001b[39m*\u001b[39m\u001b[39m*\u001b[39mdefault_check_params, \u001b[39m*\u001b[39m\u001b[39m*\u001b[39mcheck_y_params}\n",
      "File \u001b[1;32mc:\\Users\\mattp\\AppData\\Local\\Programs\\Python\\Python311\\Lib\\site-packages\\sklearn\\utils\\validation.py:879\u001b[0m, in \u001b[0;36mcheck_array\u001b[1;34m(array, accept_sparse, accept_large_sparse, dtype, order, copy, force_all_finite, ensure_2d, allow_nd, ensure_min_samples, ensure_min_features, estimator, input_name)\u001b[0m\n\u001b[0;32m    877\u001b[0m     \u001b[39m# If input is 1D raise error\u001b[39;00m\n\u001b[0;32m    878\u001b[0m     \u001b[39mif\u001b[39;00m array\u001b[39m.\u001b[39mndim \u001b[39m==\u001b[39m \u001b[39m1\u001b[39m:\n\u001b[1;32m--> 879\u001b[0m         \u001b[39mraise\u001b[39;00m \u001b[39mValueError\u001b[39;00m(\n\u001b[0;32m    880\u001b[0m             \u001b[39m\"\u001b[39m\u001b[39mExpected 2D array, got 1D array instead:\u001b[39m\u001b[39m\\n\u001b[39;00m\u001b[39marray=\u001b[39m\u001b[39m{}\u001b[39;00m\u001b[39m.\u001b[39m\u001b[39m\\n\u001b[39;00m\u001b[39m\"\u001b[39m\n\u001b[0;32m    881\u001b[0m             \u001b[39m\"\u001b[39m\u001b[39mReshape your data either using array.reshape(-1, 1) if \u001b[39m\u001b[39m\"\u001b[39m\n\u001b[0;32m    882\u001b[0m             \u001b[39m\"\u001b[39m\u001b[39myour data has a single feature or array.reshape(1, -1) \u001b[39m\u001b[39m\"\u001b[39m\n\u001b[0;32m    883\u001b[0m             \u001b[39m\"\u001b[39m\u001b[39mif it contains a single sample.\u001b[39m\u001b[39m\"\u001b[39m\u001b[39m.\u001b[39mformat(array)\n\u001b[0;32m    884\u001b[0m         )\n\u001b[0;32m    886\u001b[0m \u001b[39mif\u001b[39;00m dtype_numeric \u001b[39mand\u001b[39;00m array\u001b[39m.\u001b[39mdtype\u001b[39m.\u001b[39mkind \u001b[39min\u001b[39;00m \u001b[39m\"\u001b[39m\u001b[39mUSV\u001b[39m\u001b[39m\"\u001b[39m:\n\u001b[0;32m    887\u001b[0m     \u001b[39mraise\u001b[39;00m \u001b[39mValueError\u001b[39;00m(\n\u001b[0;32m    888\u001b[0m         \u001b[39m\"\u001b[39m\u001b[39mdtype=\u001b[39m\u001b[39m'\u001b[39m\u001b[39mnumeric\u001b[39m\u001b[39m'\u001b[39m\u001b[39m is not compatible with arrays of bytes/strings.\u001b[39m\u001b[39m\"\u001b[39m\n\u001b[0;32m    889\u001b[0m         \u001b[39m\"\u001b[39m\u001b[39mConvert your data to numeric values explicitly instead.\u001b[39m\u001b[39m\"\u001b[39m\n\u001b[0;32m    890\u001b[0m     )\n",
      "\u001b[1;31mValueError\u001b[0m: Expected 2D array, got 1D array instead:\narray=[0.24955931 0.6458985  0.4529387  ... 0.27346253 0.7028762  0.08611478].\nReshape your data either using array.reshape(-1, 1) if your data has a single feature or array.reshape(1, -1) if it contains a single sample."
     ]
    }
   ],
   "source": [
    "clf = tree.DecisionTreeClassifier()\n",
    "clf = clf.fit(X1, y)\n",
    "y1_pred = clf.predict(X1)\n",
    "\n",
    "clf = tree.DecisionTreeClassifier()\n",
    "clf = clf.fit(X2, y)\n",
    "y2_pred = clf.predict(X2)"
   ]
  },
  {
   "attachments": {},
   "cell_type": "markdown",
   "metadata": {},
   "source": [
    "Nakoniec si zobrazíme výsledky"
   ]
  },
  {
   "cell_type": "code",
   "execution_count": null,
   "metadata": {},
   "outputs": [],
   "source": [
    "print('Accuracy: ' + str(accuracy_score(y, y1_pred)))\n",
    "print('Precision: ' + str(precision_score(y, y1_pred)))\n",
    "print('Recall: ' + str(recall_score(y, y1_pred)))\n",
    "\n",
    "print('Accuracy: ' + str(accuracy_score(y, y2_pred)))\n",
    "print('Precision: ' + str(precision_score(y, y2_pred)))\n",
    "print('Recall: ' + str(recall_score(y, y2_pred)))"
   ]
  },
  {
   "attachments": {},
   "cell_type": "markdown",
   "metadata": {},
   "source": [
    "X1 = train_copy[\"CH4\"]\n",
    "X2 = train_copy[\"NOx\"]\n",
    "y = train_copy['warning']"
   ]
  },
  {
   "cell_type": "code",
   "execution_count": null,
   "metadata": {},
   "outputs": [],
   "source": [
    "# use other tree algorithms \n",
    "clf = RandomForestClassifier()\n",
    "clf = clf.fit(X1, y)\n",
    "y1_pred = clf.predict(X1)\n",
    "\n",
    "clf = RandomForestClassifier()\n",
    "clf = clf.fit(X2, y)\n",
    "y2_pred = clf.predict(X2)"
   ]
  },
  {
   "cell_type": "code",
   "execution_count": null,
   "metadata": {},
   "outputs": [],
   "source": [
    "print('Accuracy: ' + str(accuracy_score(y, y1_pred)))\n",
    "print('Precision: ' + str(precision_score(y, y1_pred)))\n",
    "print('Recall: ' + str(recall_score(y, y1_pred)))\n",
    "\n",
    "print('Accuracy: ' + str(accuracy_score(y, y2_pred)))\n",
    "print('Precision: ' + str(precision_score(y, y2_pred)))\n",
    "print('Recall: ' + str(recall_score(y, y2_pred)))"
   ]
  },
  {
   "attachments": {},
   "cell_type": "markdown",
   "metadata": {},
   "source": []
  },
  {
   "attachments": {},
   "cell_type": "markdown",
   "metadata": {},
   "source": [
    "Porovnanie výsledkov"
   ]
  }
 ],
 "metadata": {
  "kernelspec": {
   "display_name": "Python 3",
   "language": "python",
   "name": "python3"
  },
  "language_info": {
   "codemirror_mode": {
    "name": "ipython",
    "version": 3
   },
   "file_extension": ".py",
   "mimetype": "text/x-python",
   "name": "python",
   "nbconvert_exporter": "python",
   "pygments_lexer": "ipython3",
   "version": "3.11.0"
  },
  "orig_nbformat": 4,
  "vscode": {
   "interpreter": {
    "hash": "5c8e42a3dac0faee0e0c2883c0f973475060a82b3b025487599155f21df6ee92"
   }
  }
 },
 "nbformat": 4,
 "nbformat_minor": 2
}
