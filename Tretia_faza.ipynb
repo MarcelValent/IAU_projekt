{
 "cells": [
  {
   "attachments": {},
   "cell_type": "markdown",
   "metadata": {},
   "source": [
    "# Fáza 3 - Strojové učenie (v 12. týždni): 20 bodov\n",
    "Pri dátovej analýze nemusí byť naším cieľom získať len znalosti obsiahnuté v aktuálnych dátach, ale aj natrénovať model, ktorý bude schopný robiť rozumné predikcie pre nové pozorovania pomocou techniky strojového učenia. \n",
    "## Jednoduchý klasifikátor na základe závislosti v dátach  (5b)\n",
    "Naimplementujte OneR algorithm (iné mená: OneRule or 1R), ktorý je jednoduchý klasifikátor tzv. rozhodnutie na základe jedného atribútu. Môžete implementovať aj komplikovanejšie t.j. rozhodnutie na základe kombinácie atribútov.\n",
    "Algoritmus by mal byť realizovaný na základe závislostí v dátach. Vyhodnoťte klasifikátora pomocou metrík accuracy, precision a recall.\n",
    "## Trénovanie a vyhodnotenie klasifikátorov strojového učenia (5b)\n",
    "Na trénovanie využite minimálne jeden stromový algoritmus strojového učenia v scikit-learn.\n",
    "Vizualizujte natrénované pravidlá.\n",
    "Vyhodnoťte natrénované modely pomocou metrík accuracy, precision a recall\n",
    "Porovnajte ašpoň jeden natrénovaný klasifikátor v scikit-learn s jednoduchým klasifikátorom z prvého kroku.\n",
    "## Optimalizácia alias hyperparameter tuning (5b)\n",
    "Preskúmajte hyperparametre Vášho zvoleného klasifikačného algoritmu v druhom kroku a vyskúšajte ich rôzne nastavenie tak, aby ste minimalizovali overfitting (preučenie) a optimalizovali výsledok. \n",
    "Vysvetlite, čo jednotlivé hyperparametre robia. Pri nastavovaní hyperparametrov algoritmu využite krížovú validáciu (cross validation) na trénovacej množine.\n",
    "## Vyhodnotenie vplyvu zvolenej stratégie riešenia na klasifikáciu (5b) \n",
    "Vyhodnotíte Vami zvolené stratégie riešenia projektu z hľadiska classification accuracy: \n",
    "Stratégie riešenia chýbajúcich hodnôt a outlierov;\n",
    "Scaling resp. transformer či zlepší accuracy klasifikácie;\n",
    "Výber atribútov a výber algoritmov strojového učenia;\n",
    "Hyperparameter tuning resp. ensemble learning.\n",
    "Ktoré spôsoby z hore-uvedených bodov sa ukázali ako učinné pre Váš dataset? Hodnotenie podložíte dôkazmi. \n",
    "\n",
    "Správa sa odovzdáva v poslednom týždni semestra. Dvojica svojmu cvičiacemu odprezentuje vykonanú fázu v Jupyter Notebooku podľa potreby na cvičení. V notebooku uveďte percentuálny podiel práce členov dvojice. Následne správu elektronicky odovzdá jeden člen z dvojice do systému AIS do štvrtka 15.12.2022 23:59."
   ]
  },
  {
   "attachments": {},
   "cell_type": "markdown",
   "metadata": {},
   "source": [
    "Naimportovanie knižníc, ktoré budeme používať"
   ]
  },
  {
   "cell_type": "code",
   "execution_count": 16,
   "metadata": {},
   "outputs": [],
   "source": [
    "import numpy as np\n",
    "import pandas as pd\n",
    "import seaborn as sns\n",
    "from sklearn import tree\n",
    "import scipy.stats as stats\n",
    "import matplotlib.pyplot as plt\n",
    "from sklearn.pipeline import Pipeline\n",
    "from sklearn.base import TransformerMixin\n",
    "from sklearn.metrics import accuracy_score\n",
    "from sklearn.metrics import precision_score\n",
    "from sklearn.metrics import recall_score\n",
    "from sklearn.model_selection import cross_val_score\n",
    "from sklearn.model_selection import RandomizedSearchCV\n",
    "from sklearn import metrics\n",
    "from sklearn.model_selection import GridSearchCV\n",
    "from sklearn.ensemble import RandomForestClassifier\n",
    "from sklearn.metrics import classification_report, confusion_matrix\n",
    "from sklearn.feature_selection import SelectFromModel\n",
    "from sklearn.linear_model import LogisticRegression\n",
    "from sklearn.model_selection import train_test_split\n",
    "from sklearn.pipeline import Pipeline\n",
    "from sklearn.preprocessing import MinMaxScaler\n",
    "from sklearn.preprocessing import PowerTransformer\n",
    "from sklearn.feature_selection import RFE\n",
    "from sklearn.svm import SVR\n",
    "from sklearn.impute import KNNImputer\n",
    "  \n",
    "\n"
   ]
  },
  {
   "attachments": {},
   "cell_type": "markdown",
   "metadata": {},
   "source": [
    "Nazačiatok si naimportujeme dáta, ktoré si hneď nakopírujeme, aby sme neprepisovali originály"
   ]
  },
  {
   "cell_type": "code",
   "execution_count": 17,
   "metadata": {},
   "outputs": [],
   "source": [
    "train = pd.read_csv('training_data.csv',sep=\"\\t\")\n",
    "test = pd.read_csv('testing_data.csv',sep=\"\\t\")\n",
    "\n",
    "# Vytvorenie kopie datasetu\n",
    "train_copy = train.copy()\n",
    "test_copy = test.copy()"
   ]
  },
  {
   "attachments": {},
   "cell_type": "markdown",
   "metadata": {},
   "source": [
    "Trieda OneRule obsahuje inicialalizáciu, ktorá nám vytvorí prazdné premenné a metriku, ktorú budeme ohodnocovať klasifikáciu. \n",
    "Táto funkcia berie tréningové údaje ako vstup a používa ich na učenie sa súboru pravidiel, ktoré možno použiť na predpovedanie nových údajov. Funkcia iterovať cez trénovacie údaje a používame ich na identifikáciu najdôležitejších pravidiel. Tieto pravidlá možno potom použiť na predpovedanie nových údajov."
   ]
  },
  {
   "attachments": {},
   "cell_type": "markdown",
   "metadata": {},
   "source": [
    " Funkcia predict v algoritme OneRule sa používa na predpovedanie nových údajov na základe pravidiel, ktoré sa model naučil počas tréningu. \n",
    " Táto funkcia aplikuje pravidlá na vstupné dáta, ktoré do nej vložíme"
   ]
  },
  {
   "attachments": {},
   "cell_type": "markdown",
   "metadata": {},
   "source": [
    "Funkcia score v algoritme OneRule sa používa na vyhodnotenie výkonu modelu v danom súbore údajov. Funkcia najprv použije funkciu predpovedania na generovanie predpovedí pre vstupné údaje a potom porovná predpovedané hodnoty so skutočnými hodnotami na výpočet presnosti modelu. Skóre presnosti sa potom môže použiť na vyhodnotenie výkonnosti modelu a určenie toho, ako dobre je schopný predpovedať nové údaje."
   ]
  },
  {
   "cell_type": "code",
   "execution_count": 18,
   "metadata": {},
   "outputs": [],
   "source": [
    "class OneRule:\n",
    "    def __init__(self, metric):\n",
    "        self.metric = metric\n",
    "        self.rule = None\n",
    "        self.rule_class = None\n",
    "\n",
    "    def fit(self, X, y):\n",
    "        classes = np.unique(y)\n",
    "        best_rule = None\n",
    "        best_rule_class = None\n",
    "        best_score = 0\n",
    "        for c in classes:\n",
    "            rule = X[y == c].mean()\n",
    "            score = self.score(X, y, rule, c)\n",
    "            if score > best_score:\n",
    "                best_score = score\n",
    "                best_rule = rule\n",
    "                best_rule_class = c\n",
    "        self.rule = best_rule\n",
    "        self.rule_class = best_rule_class\n",
    "\n",
    "    def predict(self, X):\n",
    "        return np.array([self.rule_class] * len(X))\n",
    "\n",
    "    def score(self, X, y, rule, rule_class):\n",
    "        y_pred = np.array([rule_class] * len(X))\n",
    "        print(y_pred)\n",
    "        y_pred[X < rule] = 1 - rule_class\n",
    "        if self.metric == 'accuracy':\n",
    "            return accuracy_score(y, y_pred)\n",
    "        elif self.metric == 'precision':\n",
    "            return precision_score(y, y_pred)\n",
    "        elif self.metric == 'recall':\n",
    "            # use zero_division=0 to avoid warning\n",
    "            return recall_score(y, y_pred, zero_division=\"0\")\n",
    "        else:\n",
    "            raise ValueError('Unknown metric: ' + self.metric)\n"
   ]
  },
  {
   "attachments": {},
   "cell_type": "markdown",
   "metadata": {},
   "source": [
    "Pripravíme si vstupy pre OneRule algoritmus\n",
    "Aplikujeme OneRule algoritmus na stĺpec s parametrom warning, takže ho môžeme vyradiť zo základu pre testovanie.\n",
    "X1 a X2 predstavujú hodnoty stĺpce, v ktorých nám v predchádzajúcich fázach zobrazili najvyššiu koreláciu so stĺpcom warning. "
   ]
  },
  {
   "cell_type": "code",
   "execution_count": 19,
   "metadata": {},
   "outputs": [],
   "source": [
    "X1 = train_copy[\"CH4\"].values\n",
    "X2 = train_copy[\"NOx\"].values\n",
    "y = train_copy['warning']"
   ]
  },
  {
   "attachments": {},
   "cell_type": "markdown",
   "metadata": {},
   "source": [
    "Aplikujeme OneRule algoritmus na stĺpec CH4 a zobrazíme výsledky"
   ]
  },
  {
   "cell_type": "code",
   "execution_count": 20,
   "metadata": {},
   "outputs": [
    {
     "name": "stdout",
     "output_type": "stream",
     "text": [
      "[0 0 0 ... 0 0 0]\n",
      "[1 1 1 ... 1 1 1]\n",
      "Column: CH4\n",
      "Rule: 0.6380420618263979\n",
      "Rule class: 0\n",
      "Accuracy: 0.4030812324929972\n",
      "Precision: 0.0\n",
      "Recall: 0.0\n"
     ]
    },
    {
     "name": "stderr",
     "output_type": "stream",
     "text": [
      "c:\\Users\\mattp\\AppData\\Local\\Programs\\Python\\Python311\\Lib\\site-packages\\sklearn\\metrics\\_classification.py:1334: UndefinedMetricWarning: Precision is ill-defined and being set to 0.0 due to no predicted samples. Use `zero_division` parameter to control this behavior.\n",
      "  _warn_prf(average, modifier, msg_start, len(result))\n"
     ]
    }
   ],
   "source": [
    "\n",
    "one_rule = OneRule(\"accuracy\")\n",
    "one_rule.fit(X1, y)\n",
    "\n",
    "y_pred = one_rule.predict(X1)\n",
    "\n",
    "print('Column: ' + \"CH4\")\n",
    "print('Rule: ' + str(one_rule.rule))\n",
    "print('Rule class: ' + str(one_rule.rule_class))\n",
    "print('Accuracy: ' + str(accuracy_score(y, y_pred)))\n",
    "print('Precision: ' + str(precision_score(y, y_pred)))\n",
    "print('Recall: ' + str(recall_score(y, y_pred)))"
   ]
  },
  {
   "attachments": {},
   "cell_type": "markdown",
   "metadata": {},
   "source": [
    "Aplikujeme OneRule algoritmus na stĺpec NOx a zobrazíme výsledky"
   ]
  },
  {
   "cell_type": "code",
   "execution_count": 21,
   "metadata": {},
   "outputs": [
    {
     "name": "stdout",
     "output_type": "stream",
     "text": [
      "[0 0 0 ... 0 0 0]\n",
      "[1 1 1 ... 1 1 1]\n",
      "Column: NOx\n",
      "Rule: 0.7173573186124478\n",
      "Rule class: 0\n",
      "Accuracy: 0.4030812324929972\n",
      "Precision: 0.0\n",
      "Recall: 0.0\n"
     ]
    },
    {
     "name": "stderr",
     "output_type": "stream",
     "text": [
      "c:\\Users\\mattp\\AppData\\Local\\Programs\\Python\\Python311\\Lib\\site-packages\\sklearn\\metrics\\_classification.py:1334: UndefinedMetricWarning: Precision is ill-defined and being set to 0.0 due to no predicted samples. Use `zero_division` parameter to control this behavior.\n",
      "  _warn_prf(average, modifier, msg_start, len(result))\n"
     ]
    }
   ],
   "source": [
    "one_rule = OneRule(\"accuracy\")\n",
    "one_rule.fit(X2, y)\n",
    "\n",
    "y_pred = one_rule.predict(X2)\n",
    "\n",
    "print('Column: ' + \"NOx\")\n",
    "print('Rule: ' + str(one_rule.rule))\n",
    "print('Rule class: ' + str(one_rule.rule_class))\n",
    "print('Accuracy: ' + str(accuracy_score(y, y_pred)))\n",
    "print('Precision: ' + str(precision_score(y, y_pred)))\n",
    "print('Recall: ' + str(recall_score(y, y_pred)))"
   ]
  },
  {
   "attachments": {},
   "cell_type": "markdown",
   "metadata": {},
   "source": [
    "Na rovnaký algoritmus použijeme DecisionTreeClassifier() z knižnice sklearn za účelom porovnania dát"
   ]
  },
  {
   "attachments": {},
   "cell_type": "markdown",
   "metadata": {},
   "source": [
    "Najprv si pripravíme dáta na vstup, rovnako v prípade vyššie"
   ]
  },
  {
   "cell_type": "code",
   "execution_count": 31,
   "metadata": {},
   "outputs": [],
   "source": [
    "X1 = train_copy[\"CH4\"]\n",
    "X2 = train_copy[\"NOx\"]\n",
    "y = train_copy['warning']"
   ]
  },
  {
   "attachments": {},
   "cell_type": "markdown",
   "metadata": {},
   "source": [
    "Vkladáme dáta do DecisionTreeClassifier a spustíme funkciu predikácie"
   ]
  },
  {
   "attachments": {},
   "cell_type": "markdown",
   "metadata": {},
   "source": [
    "DecisionTreeClassifier je typ algoritmu učenia, ktorý možno použiť na klasifikačné úlohy podobne ako OneRule algoritmus."
   ]
  },
  {
   "attachments": {},
   "cell_type": "markdown",
   "metadata": {},
   "source": [
    "Funkciu reshape používame, iba aby sme na vstupe do funkcie fit mohli použiť 1D zoznam."
   ]
  },
  {
   "cell_type": "code",
   "execution_count": 45,
   "metadata": {},
   "outputs": [],
   "source": [
    "clf = tree.DecisionTreeClassifier()\n",
    "clf = clf.fit(X1.values.reshape(-1,1), y.reshape(-1,1))\n",
    "y1_pred = clf.predict(X1.values.reshape(-1,1))\n",
    "\n",
    "clf = tree.DecisionTreeClassifier()\n",
    "clf = clf.fit(X2.values.reshape(-1,1), y.reshape(-1,1))\n",
    "y2_pred = clf.predict(X2.values.reshape(-1,1))\n",
    "\n"
   ]
  },
  {
   "attachments": {},
   "cell_type": "markdown",
   "metadata": {},
   "source": [
    "Nakoniec si zobrazíme výsledky"
   ]
  },
  {
   "cell_type": "code",
   "execution_count": 47,
   "metadata": {},
   "outputs": [
    {
     "name": "stdout",
     "output_type": "stream",
     "text": [
      "Column: CH4\n",
      "Accuracy: 0.9703081232492997\n",
      "Precision: 0.9582139085834968\n",
      "Recall: 0.9935867354919443\n",
      "Column: NOx\n",
      "Accuracy: 0.9724556489262371\n",
      "Precision: 0.9954501137471563\n",
      "Recall: 0.9582355701548568\n"
     ]
    }
   ],
   "source": [
    "print('Column: ' + \"CH4\")\n",
    "print('Accuracy: ' + str(accuracy_score(y, y1_pred)))\n",
    "print('Precision: ' + str(precision_score(y, y1_pred)))\n",
    "print('Recall: ' + str(recall_score(y, y1_pred)))\n",
    "\n",
    "print('Column: ' + \"NOx\")\n",
    "print('Accuracy: ' + str(accuracy_score(y, y2_pred)))\n",
    "print('Precision: ' + str(precision_score(y, y2_pred)))\n",
    "print('Recall: ' + str(recall_score(y, y2_pred)))\n"
   ]
  },
  {
   "attachments": {},
   "cell_type": "markdown",
   "metadata": {},
   "source": [
    "Identitický postup použijeme na otestovanie ďalšieho stromového modelu - RandomForestClassifier."
   ]
  },
  {
   "cell_type": "code",
   "execution_count": 50,
   "metadata": {},
   "outputs": [
    {
     "name": "stderr",
     "output_type": "stream",
     "text": [
      "C:\\Users\\mattp\\AppData\\Local\\Temp\\ipykernel_16932\\3065635485.py:7: DataConversionWarning: A column-vector y was passed when a 1d array was expected. Please change the shape of y to (n_samples,), for example using ravel().\n",
      "  clf = clf.fit(X1.values.reshape(-1,1), y.values.reshape(-1,1))\n",
      "C:\\Users\\mattp\\AppData\\Local\\Temp\\ipykernel_16932\\3065635485.py:12: DataConversionWarning: A column-vector y was passed when a 1d array was expected. Please change the shape of y to (n_samples,), for example using ravel().\n",
      "  clf = clf.fit(X2.values.reshape(-1,1), y.values.reshape(-1,1))\n"
     ]
    },
    {
     "name": "stdout",
     "output_type": "stream",
     "text": [
      "Column: CH4\n",
      "Accuracy: 0.9700280112044818\n",
      "Precision: 0.9553089382123575\n",
      "Recall: 0.9964023150320663\n",
      "Column: NOx\n",
      "Accuracy: 0.9722689075630252\n",
      "Precision: 0.9912959381044487\n",
      "Recall: 0.9619896762083529\n"
     ]
    }
   ],
   "source": [
    "X1 = train_copy[\"CH4\"]\n",
    "X2 = train_copy[\"NOx\"]\n",
    "y = train_copy['warning']\n",
    "\n",
    "clf = RandomForestClassifier()\n",
    "clf = clf.fit(X1.values.reshape(-1,1), y.values.reshape(-1,1))\n",
    "y1_pred = clf.predict(X1.values.reshape(-1,1))\n",
    "\n",
    "clf = RandomForestClassifier()\n",
    "clf = clf.fit(X2.values.reshape(-1,1), y.values.reshape(-1,1))\n",
    "y2_pred = clf.predict(X2.values.reshape(-1,1))\n",
    "\n",
    "print('Column: ' + \"CH4\")\n",
    "print('Accuracy: ' + str(accuracy_score(y, y1_pred)))\n",
    "print('Precision: ' + str(precision_score(y, y1_pred)))\n",
    "print('Recall: ' + str(recall_score(y, y1_pred)))\n",
    "\n",
    "print('Column: ' + \"NOx\")\n",
    "print('Accuracy: ' + str(accuracy_score(y, y2_pred)))\n",
    "print('Precision: ' + str(precision_score(y, y2_pred)))\n",
    "print('Recall: ' + str(recall_score(y, y2_pred)))\n"
   ]
  },
  {
   "attachments": {},
   "cell_type": "markdown",
   "metadata": {},
   "source": []
  },
  {
   "cell_type": "code",
   "execution_count": null,
   "metadata": {},
   "outputs": [],
   "source": []
  },
  {
   "cell_type": "code",
   "execution_count": null,
   "metadata": {},
   "outputs": [],
   "source": []
  },
  {
   "attachments": {},
   "cell_type": "markdown",
   "metadata": {},
   "source": []
  },
  {
   "attachments": {},
   "cell_type": "markdown",
   "metadata": {},
   "source": [
    "Porovnanie výsledkov"
   ]
  }
 ],
 "metadata": {
  "kernelspec": {
   "display_name": "Python 3",
   "language": "python",
   "name": "python3"
  },
  "language_info": {
   "codemirror_mode": {
    "name": "ipython",
    "version": 3
   },
   "file_extension": ".py",
   "mimetype": "text/x-python",
   "name": "python",
   "nbconvert_exporter": "python",
   "pygments_lexer": "ipython3",
   "version": "3.11.0"
  },
  "orig_nbformat": 4,
  "vscode": {
   "interpreter": {
    "hash": "5c8e42a3dac0faee0e0c2883c0f973475060a82b3b025487599155f21df6ee92"
   }
  }
 },
 "nbformat": 4,
 "nbformat_minor": 2
}
