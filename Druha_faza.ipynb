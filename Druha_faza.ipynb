{
 "cells": [
  {
   "cell_type": "code",
   "execution_count": null,
   "metadata": {
    "pycharm": {
     "is_executing": true
    }
   },
   "outputs": [],
   "source": [
    "import pylab as py\n",
    "import pandas as pd\n",
    "import numpy as np\n",
    "import matplotlib.pyplot as plt\n",
    "import seaborn as sns\n",
    "from sklearn.base import TransformerMixin,BaseEstimator\n",
    "from datetime import datetime\n",
    "from datetime import date\n",
    "import scipy.stats as stats\n",
    "from sklearn.feature_selection import SelectFromModel\n",
    "from sklearn.linear_model import LogisticRegression\n",
    "from sklearn.model_selection import train_test_split\n",
    "from sklearn.pipeline import Pipeline\n",
    "from sklearn.preprocessing import MinMaxScaler\n",
    "from sklearn.preprocessing import PowerTransformer\n",
    "from sklearn.feature_selection import RFE\n",
    "from sklearn.svm import SVR\n",
    "from sklearn.impute import KNNImputer\n",
    "pd.options.mode.chained_assignment = None  # default='warn'\n",
    "sns.set_palette(\"mako\")"
   ]
  },
  {
   "cell_type": "code",
   "execution_count": null,
   "metadata": {
    "pycharm": {
     "is_executing": true
    }
   },
   "outputs": [],
   "source": [
    "def find_outliers(data,column):\n",
    "    data_mean, data_std=np.mean(data),np.std(data)\n",
    "    cut_off=data_std*3\n",
    "    lower, upper = data_mean - cut_off, data_mean + cut_off\n",
    "    outliers=[x for x in data if x<lower or x >upper]\n",
    "    print('Počet outlierov v stĺpci ' + column +  ' je %d' % len(outliers))"
   ]
  },
  {
   "cell_type": "code",
   "execution_count": null,
   "metadata": {
    "pycharm": {
     "is_executing": true
    }
   },
   "outputs": [],
   "source": [
    "def findDiffCorrelation(tmp_data):\n",
    "    return (tmp_data.iloc[: , :15].corr() - data.iloc[: , :15].corr()).max()"
   ]
  },
  {
   "cell_type": "code",
   "execution_count": null,
   "metadata": {
    "pycharm": {
     "is_executing": true
    }
   },
   "outputs": [],
   "source": [
    "def transform_col(dataframe, column):\n",
    "        quartil_down = dataframe[column].quantile(0.05)\n",
    "        quartil_up = dataframe[column].quantile(0.95)\n",
    "        \n",
    "        for i, value in dataframe.iterrows():\n",
    "            if value[column] < quartil_down:\n",
    "                dataframe.loc[i, column] = quartil_down\n",
    "            elif value[column] > quartil_up:\n",
    "                dataframe.loc[i, column] = quartil_up\n",
    "        return dataframe\n",
    "def transform(dataframe):\n",
    "    col_names= list(dataframe.columns.values)\n",
    "    col_names = col_names[0:16]\n",
    "    for column_name in col_names:\n",
    "        transform_col(dataframe,column_name)\n",
    "    return dataframe"
   ]
  },
  {
   "cell_type": "markdown",
   "metadata": {},
   "source": [
    "### Načítanie a čistenie dát"
   ]
  },
  {
   "cell_type": "code",
   "execution_count": null,
   "metadata": {
    "pycharm": {
     "is_executing": true
    }
   },
   "outputs": [],
   "source": [
    "stations= pd.read_csv(\"data/stations.csv\", sep=\"\\t\")\n",
    "measurements= pd.read_csv(\"data/measurements.csv\", sep=\"\\t\")"
   ]
  },
  {
   "cell_type": "code",
   "execution_count": null,
   "metadata": {
    "pycharm": {
     "is_executing": true
    }
   },
   "outputs": [],
   "source": [
    "measurements.info()"
   ]
  },
  {
   "cell_type": "code",
   "execution_count": null,
   "metadata": {
    "pycharm": {
     "is_executing": true
    }
   },
   "outputs": [],
   "source": [
    "stations.info()"
   ]
  },
  {
   "cell_type": "markdown",
   "metadata": {},
   "source": [
    "Skontrolujeme, či sú jednotlivé 'latitude' jedinečné, a podľa nich joineme."
   ]
  },
  {
   "cell_type": "code",
   "execution_count": null,
   "metadata": {
    "pycharm": {
     "is_executing": true
    }
   },
   "outputs": [],
   "source": [
    "latitude_s = stations[\"latitude\"].unique().sort()\n",
    "latitude_m = measurements[\"latitude\"].unique().sort()\n",
    "np.array_equal(latitude_s, latitude_m)"
   ]
  },
  {
   "cell_type": "markdown",
   "metadata": {},
   "source": [
    "Sú rovnaké, preto môžeme ich spojiť.\n",
    "Odstránime QoS, revision a code, keďže tieto parametre neovplyvňujú kvalitu ovzdušia.Taktiež odstránime duplicitný stĺpec ktorý nám vznikne."
   ]
  },
  {
   "cell_type": "code",
   "execution_count": null,
   "metadata": {
    "pycharm": {
     "is_executing": true
    }
   },
   "outputs": [],
   "source": [
    "stations.drop(columns=[\"QoS\"], inplace=True)\n",
    "stations.drop(columns=[\"revision\"], inplace=True)\n",
    "stations.drop(columns=[\"code\"], inplace=True)\n",
    "data = pd.merge(measurements, stations, on = [\"latitude\"], how = \"left\")\n",
    "data.drop(columns=[\"longitude_x\"], inplace=True)\n",
    "data.rename(columns={'longitude_y': 'longitude'}, inplace=True)\n",
    "data_orig = data.copy()\n",
    "data.info()"
   ]
  },
  {
   "cell_type": "markdown",
   "metadata": {},
   "source": [
    "Ukážka dát po spojení."
   ]
  },
  {
   "cell_type": "code",
   "execution_count": null,
   "metadata": {
    "pycharm": {
     "is_executing": true
    }
   },
   "outputs": [],
   "source": [
    "data.head()"
   ]
  },
  {
   "cell_type": "markdown",
   "metadata": {},
   "source": [
    "Odstránime duplicitné záznamy"
   ]
  },
  {
   "cell_type": "code",
   "execution_count": null,
   "metadata": {
    "pycharm": {
     "is_executing": true
    }
   },
   "outputs": [],
   "source": [
    "tmp = data.duplicated()\n",
    "tmp = tmp[tmp == True].count()\n",
    "print('Počet duplicitných záznamov: '+ str(tmp))"
   ]
  },
  {
   "cell_type": "code",
   "execution_count": null,
   "metadata": {
    "pycharm": {
     "is_executing": true
    }
   },
   "outputs": [],
   "source": [
    "data = data.drop_duplicates()\n",
    "tmp = data.duplicated()\n",
    "tmp = tmp[tmp == True].count()\n",
    "print('Počet duplicitných záznamov: '+ str(tmp))"
   ]
  },
  {
   "cell_type": "code",
   "execution_count": null,
   "metadata": {
    "pycharm": {
     "is_executing": true
    }
   },
   "outputs": [],
   "source": [
    "data = data.dropna()"
   ]
  },
  {
   "cell_type": "code",
   "execution_count": null,
   "metadata": {
    "pycharm": {
     "is_executing": true
    }
   },
   "outputs": [],
   "source": [
    "data.describe()"
   ]
  },
  {
   "cell_type": "markdown",
   "metadata": {},
   "source": [
    "Presunieme si latitude a longtitude na koniec, aby sme vedeli neskôr ľahšie vyberať parametre ovplyvňujúce kvalitu ovzdušia."
   ]
  },
  {
   "cell_type": "code",
   "execution_count": null,
   "metadata": {
    "pycharm": {
     "is_executing": true
    }
   },
   "outputs": [],
   "source": [
    "data.insert(16, 'latitude', data.pop('latitude'))\n",
    "data.insert(17, 'longitude', data.pop('longitude'))\n",
    "data.info()"
   ]
  },
  {
   "cell_type": "markdown",
   "metadata": {},
   "source": [
    "### Odstránenie NA hodnôt\n",
    "Ako prvé skúsime metódu s odstránením riadkov, kde chýbajú hodnoty."
   ]
  },
  {
   "cell_type": "code",
   "execution_count": null,
   "metadata": {
    "pycharm": {
     "is_executing": true
    }
   },
   "outputs": [],
   "source": [
    "tmp_data = data.copy()\n",
    "tmp_data.dropna(inplace=True)"
   ]
  },
  {
   "cell_type": "code",
   "execution_count": null,
   "metadata": {
    "pycharm": {
     "is_executing": true
    }
   },
   "outputs": [],
   "source": [
    "len(data) - len(tmp_data)"
   ]
  },
  {
   "cell_type": "code",
   "execution_count": null,
   "metadata": {
    "pycharm": {
     "is_executing": true
    }
   },
   "outputs": [],
   "source": [
    "plt.figure(figsize=(25,25))\n",
    "sns.heatmap(data.iloc[: , :15].corr(), annot=True, fmt=\".3f\", linewidths=.5, square = True, cmap = 'BuGn');"
   ]
  },
  {
   "cell_type": "code",
   "execution_count": null,
   "metadata": {
    "pycharm": {
     "is_executing": true
    }
   },
   "outputs": [],
   "source": [
    "plt.figure(figsize=(25,25))\n",
    "sns.heatmap(tmp_data.iloc[: , :15].corr(), annot=True, fmt=\".3f\", linewidths=.5, square = True, cmap = 'BuGn');"
   ]
  },
  {
   "cell_type": "markdown",
   "metadata": {},
   "source": [
    "Výpočet korelácie metódou zmananím."
   ]
  },
  {
   "cell_type": "code",
   "execution_count": null,
   "metadata": {
    "pycharm": {
     "is_executing": true
    }
   },
   "outputs": [],
   "source": [
    "findDiffCorrelation(tmp_data)"
   ]
  },
  {
   "cell_type": "markdown",
   "metadata": {},
   "source": [
    "Výhodou tohto prístupu je, že sa nám heatmapa zmenila len minimálne. Nevýhodou je, že nám zmizlo 702 záznamov.\n",
    "To nám predstavuje 5.87% dát."
   ]
  },
  {
   "cell_type": "code",
   "execution_count": null,
   "metadata": {
    "pycharm": {
     "is_executing": true
    }
   },
   "outputs": [],
   "source": [
    "(len(data)-len(tmp_data))/(len(data)) * 100"
   ]
  },
  {
   "cell_type": "markdown",
   "metadata": {},
   "source": [
    "2. metóda je nahradenie N/A hodnôt mediánom "
   ]
  },
  {
   "cell_type": "code",
   "execution_count": null,
   "metadata": {
    "pycharm": {
     "is_executing": true
    }
   },
   "outputs": [],
   "source": [
    "temp_data_median = data.copy()\n",
    "temp_data_median.fillna(temp_data_median.iloc[: , :15].median(), inplace=True)\n",
    "print(\"Rozdiel v korelácii po nahradení chýbajúcich hodnôt mediánom\")\n",
    "findDiffCorrelation(temp_data_median)"
   ]
  },
  {
   "cell_type": "markdown",
   "metadata": {},
   "source": [
    "Vykreslíme si heatmapu"
   ]
  },
  {
   "cell_type": "code",
   "execution_count": null,
   "metadata": {
    "pycharm": {
     "is_executing": true
    }
   },
   "outputs": [],
   "source": [
    "plt.figure(figsize=(25,25))\n",
    "sns.heatmap(temp_data_median.iloc[: , :15].corr(), annot=True, fmt=\".3f\", linewidths=.5, square = True, cmap = 'BuGn');"
   ]
  },
  {
   "cell_type": "markdown",
   "metadata": {},
   "source": [
    "3.Nahradenie chýbajúcich hodnôt priemerom\n"
   ]
  },
  {
   "cell_type": "code",
   "execution_count": null,
   "metadata": {
    "pycharm": {
     "is_executing": true
    }
   },
   "outputs": [],
   "source": [
    "tmp_data_average = data.copy()\n",
    "tmp_data_average.fillna(tmp_data_average.iloc[: , :1].mean(), inplace=True)\n",
    "print(\"Rozdiel v korelácii po nahradení chýbajúcich hodnôt priemerom\")\n",
    "findDiffCorrelation(tmp_data_average)"
   ]
  },
  {
   "cell_type": "markdown",
   "metadata": {},
   "source": [
    "Vykreslíme si heatmapu"
   ]
  },
  {
   "cell_type": "code",
   "execution_count": null,
   "metadata": {
    "pycharm": {
     "is_executing": true
    }
   },
   "outputs": [],
   "source": [
    "plt.figure(figsize=(25,25))\n",
    "sns.heatmap(tmp_data_average.iloc[: , :15].corr(), annot=True, fmt=\".3f\", linewidths=.5, square = True, cmap = 'BuGn');"
   ]
  },
  {
   "cell_type": "code",
   "execution_count": null,
   "metadata": {
    "pycharm": {
     "is_executing": true
    }
   },
   "outputs": [],
   "source": [
    "tmp_data_knn = data.copy()\n",
    "imputer = KNNImputer(n_neighbors=2)\n",
    "tmp_data_measurements = tmp_data_knn.iloc[:, :15]\n",
    "tmp_data_measurements = imputer.fit_transform(tmp_data_measurements)\n",
    "tmp_data_knn.iloc[:, :15] = tmp_data_measurements\n",
    "print(\"Rozdiel v korelácii po nahradení chýbajúcich hodnôt kNN\")\n",
    "findDiffCorrelation(tmp_data_knn)\n"
   ]
  },
  {
   "cell_type": "markdown",
   "metadata": {},
   "source": [
    "Vykreslíme si heatmapu"
   ]
  },
  {
   "cell_type": "code",
   "execution_count": null,
   "metadata": {
    "pycharm": {
     "is_executing": true
    }
   },
   "outputs": [],
   "source": [
    "plt.figure(figsize=(25,25))\n",
    "sns.heatmap(tmp_data_knn.iloc[: , :15].corr(), annot=True, fmt=\".3f\", linewidths=.5, square = True, cmap = 'BuGn');"
   ]
  },
  {
   "cell_type": "markdown",
   "metadata": {},
   "source": [
    "Nájdeme, ktorá z metód bola najefektívnejšia"
   ]
  },
  {
   "cell_type": "code",
   "execution_count": null,
   "metadata": {
    "pycharm": {
     "is_executing": true
    }
   },
   "outputs": [],
   "source": [
    "diff_corr_median = abs(temp_data_median.iloc[: , :15].corr() - data.iloc[: , :15].corr()).mean().mean()\n",
    "diff_corr_average = abs(tmp_data_average.iloc[: , :15].corr() - data.iloc[: , :15].corr()).mean().mean()\n",
    "diff_corr_knn = abs(tmp_data_knn.iloc[: , :15].corr() - data.iloc[: , :15].corr()).mean().mean()\n",
    "print(\"Priemerná odchýlka korelácie od pôvodných dát po nahradení chýbajúcich hodnôt medianom: \", diff_corr_median)\n",
    "print(\"Priemerná odchýlka korelácie od pôvodných dát  po nahradení chýbajúcich hodnôt priemerom: \", diff_corr_average)\n",
    "print(\"Priemerná odchýlka korelácie od pôvodných dát  po nahradení chýbajúcich hodnôt kNN: \",diff_corr_knn)\n",
    "listik = [diff_corr_median,diff_corr_average,diff_corr_knn]\n",
    "print(\"Najmenšia odchýlka je:\",min(listik))\n",
    "  "
   ]
  },
  {
   "cell_type": "markdown",
   "metadata": {},
   "source": [
    "Z priemerových odchýliek vidíme, že najlepšie pre nás bude použiť nahradenie hodnôt priemerom.   "
   ]
  },
  {
   "cell_type": "code",
   "execution_count": null,
   "metadata": {
    "pycharm": {
     "is_executing": true
    }
   },
   "outputs": [],
   "source": [
    "data = tmp_data_average.copy()"
   ]
  },
  {
   "cell_type": "markdown",
   "metadata": {},
   "source": [
    "### Odstránenie vychýlených hodnôt (outlierov)"
   ]
  },
  {
   "cell_type": "code",
   "execution_count": null,
   "metadata": {
    "pycharm": {
     "is_executing": true
    }
   },
   "outputs": [],
   "source": [
    "for column in data.describe().columns:\n",
    "    find_outliers(data[column],column)"
   ]
  },
  {
   "cell_type": "markdown",
   "metadata": {},
   "source": [
    "Skopírujeme si dáta, aby sme vedeli vykonávať testy a nemenili sme priamo naše dáta."
   ]
  },
  {
   "cell_type": "code",
   "execution_count": null,
   "metadata": {
    "pycharm": {
     "is_executing": true
    }
   },
   "outputs": [],
   "source": [
    "tmp_data = data.copy()"
   ]
  },
  {
   "cell_type": "code",
   "execution_count": null,
   "metadata": {
    "pycharm": {
     "is_executing": true
    }
   },
   "outputs": [],
   "source": [
    "transform(tmp_data)"
   ]
  },
  {
   "cell_type": "code",
   "execution_count": null,
   "metadata": {
    "pycharm": {
     "is_executing": true
    }
   },
   "outputs": [],
   "source": [
    "for column in data.describe().columns:\n",
    "    find_outliers(tmp_data[column],column)"
   ]
  },
  {
   "cell_type": "markdown",
   "metadata": {},
   "source": [
    "Ako vidíme, tak outlierov nám to úspešne odstránilo. Pri latitude a longitude outlierov neriešime - toto sú súradnice stanice."
   ]
  },
  {
   "cell_type": "code",
   "execution_count": 44,
   "metadata": {
    "pycharm": {
     "is_executing": true
    }
   },
   "outputs": [],
   "source": [
    "tmp_data = data.copy()"
   ]
  },
  {
   "cell_type": "markdown",
   "metadata": {},
   "source": [
    "UKRADNUTE OD SKURLIHO A NEFUNGUJE - KLASIKA"
   ]
  },
  {
   "cell_type": "code",
   "execution_count": 45,
   "metadata": {
    "pycharm": {
     "is_executing": true
    }
   },
   "outputs": [
    {
     "name": "stdout",
     "output_type": "stream",
     "text": [
      "           PAHs     PM10  C2H3NO5        O3      NH3        Pb        PRES  \\\n",
      "0       7.22628  9.07079  2.63533   9.95652  9.21864  29.98802  1093.16157   \n",
      "3      10.39372  8.25541  1.19707   8.98772  9.82297  47.15361  1063.43896   \n",
      "4       9.56441  8.43278  1.32137   4.43270  8.08426  47.94224  1111.55551   \n",
      "7      10.78799  9.80691  5.28964   6.23420  8.38204  72.85236  1156.28181   \n",
      "11      5.64192  9.36108  3.44736  12.02213  8.93778  45.68778  1185.27302   \n",
      "...         ...      ...      ...       ...      ...       ...         ...   \n",
      "25527  11.86566  7.54725  0.93197   8.97106  8.12568  74.87950  1123.93944   \n",
      "25531   7.68875  9.53579  4.26800   9.41341  6.11207  25.79962  1194.52692   \n",
      "25534   7.99479  9.64613  4.78692  10.14872  9.23772  66.96097  1167.87401   \n",
      "25536   7.66997  9.33137  3.46029  10.38417  9.97797  41.85262  1134.35301   \n",
      "25539   6.09774  6.50756  0.36799   7.84105  9.76842  23.67090  1169.72651   \n",
      "\n",
      "           CFCs       SO2       NOx  warning       CO       CH4     PM2.5  \\\n",
      "0      67.38361   9.89682  10.31364      0.0  8.36810   9.75090  10.19732   \n",
      "3      69.62954   8.29285  10.26103      0.0  8.47772   9.60717   7.09990   \n",
      "4      77.84035   8.42276   6.11983      1.0  8.97045   8.89398   8.22953   \n",
      "7      59.70907   5.84252   8.65345      1.0  7.03998  11.94774   9.47408   \n",
      "11     67.19246  12.57778  10.49590      1.0  9.06782   6.62910   6.62591   \n",
      "...         ...       ...       ...      ...      ...       ...       ...   \n",
      "25527  63.23719   7.38175   9.18056      1.0  7.72936   8.43387  12.33470   \n",
      "25531  65.51306  10.00821   9.28442      0.0  7.48737   8.58958   7.85547   \n",
      "25534  69.35860   9.39419   9.82530      0.0  8.51967  10.46974  10.76934   \n",
      "25536  63.38757   9.83523   9.77990      0.0  8.73299   9.86713  10.52182   \n",
      "25539  61.73027   4.99596   9.45354      0.0  9.37912  11.36540   7.99421   \n",
      "\n",
      "           H2CO      TEMP  latitude  longitude      station  \n",
      "0      59.16382   1.58478  -5.85746  144.23058  Mount Hagen  \n",
      "3      65.37280  13.19832   8.88649    2.59753    Tchaourou  \n",
      "4      47.62991   3.92248  10.10649   76.35484       Alwaye  \n",
      "7      68.73458  18.35811 -37.32167  -59.13316       Tandil  \n",
      "11     56.52691  30.99446  42.22718   14.39024     Lanciano  \n",
      "...         ...       ...       ...        ...          ...  \n",
      "25527  48.73235  22.93622  43.61092    3.87723  Montpellier  \n",
      "25531  45.55913  15.71239  21.53889   71.57737    Gariadhar  \n",
      "25534  47.86523  27.31949  60.02427   30.28491    Kolomyagi  \n",
      "25536  62.45908  17.54827  39.59611   27.02444      Edremit  \n",
      "25539  34.24150  21.80379  52.21099    7.02238       Gronau  \n",
      "\n",
      "[10711 rows x 19 columns]\n"
     ]
    }
   ],
   "source": [
    "z_scores = stats.zscore(tmp_data.iloc[:,:16]) \n",
    "abs_z_scores = np.abs(z_scores)\n",
    "filtered_entries = (abs_z_scores < 3).all(axis=1)\n",
    "tmp_data = tmp_data[filtered_entries]\n",
    "print(tmp_data)"
   ]
  },
  {
   "cell_type": "code",
   "execution_count": 46,
   "metadata": {
    "pycharm": {
     "is_executing": true
    }
   },
   "outputs": [
    {
     "name": "stdout",
     "output_type": "stream",
     "text": [
      "<class 'pandas.core.frame.DataFrame'>\n",
      "Int64Index: 10711 entries, 0 to 25539\n",
      "Data columns (total 19 columns):\n",
      " #   Column     Non-Null Count  Dtype  \n",
      "---  ------     --------------  -----  \n",
      " 0   PAHs       10711 non-null  float64\n",
      " 1   PM10       10711 non-null  float64\n",
      " 2   C2H3NO5    10711 non-null  float64\n",
      " 3   O3         10711 non-null  float64\n",
      " 4   NH3        10711 non-null  float64\n",
      " 5   Pb         10711 non-null  float64\n",
      " 6   PRES       10711 non-null  float64\n",
      " 7   CFCs       10711 non-null  float64\n",
      " 8   SO2        10711 non-null  float64\n",
      " 9   NOx        10711 non-null  float64\n",
      " 10  warning    10711 non-null  float64\n",
      " 11  CO         10711 non-null  float64\n",
      " 12  CH4        10711 non-null  float64\n",
      " 13  PM2.5      10711 non-null  float64\n",
      " 14  H2CO       10711 non-null  float64\n",
      " 15  TEMP       10711 non-null  float64\n",
      " 16  latitude   10711 non-null  float64\n",
      " 17  longitude  10711 non-null  float64\n",
      " 18  station    10711 non-null  object \n",
      "dtypes: float64(18), object(1)\n",
      "memory usage: 1.6+ MB\n"
     ]
    }
   ],
   "source": [
    "tmp_data.info()"
   ]
  },
  {
   "cell_type": "code",
   "execution_count": 47,
   "metadata": {},
   "outputs": [
    {
     "name": "stdout",
     "output_type": "stream",
     "text": [
      "Počet outlierov v stĺpci PAHs je 1\n",
      "Počet outlierov v stĺpci PM10 je 5\n",
      "Počet outlierov v stĺpci C2H3NO5 je 244\n",
      "Počet outlierov v stĺpci O3 je 4\n",
      "Počet outlierov v stĺpci NH3 je 4\n",
      "Počet outlierov v stĺpci Pb je 8\n",
      "Počet outlierov v stĺpci PRES je 0\n",
      "Počet outlierov v stĺpci CFCs je 7\n",
      "Počet outlierov v stĺpci SO2 je 0\n",
      "Počet outlierov v stĺpci NOx je 19\n",
      "Počet outlierov v stĺpci warning je 0\n",
      "Počet outlierov v stĺpci CO je 3\n",
      "Počet outlierov v stĺpci CH4 je 2\n",
      "Počet outlierov v stĺpci PM2.5 je 5\n",
      "Počet outlierov v stĺpci H2CO je 8\n",
      "Počet outlierov v stĺpci TEMP je 3\n",
      "Počet outlierov v stĺpci latitude je 40\n",
      "Počet outlierov v stĺpci longitude je 0\n"
     ]
    }
   ],
   "source": [
    "for column in data.describe().columns:\n",
    "    find_outliers(tmp_data[column],column)"
   ]
  },
  {
   "cell_type": "markdown",
   "metadata": {},
   "source": [
    "Ako vidíme, tak toto nám problém s outliermi nevyriešilo, použijeme teda nahradenie outlierov hraničnými hodnotami."
   ]
  },
  {
   "cell_type": "code",
   "execution_count": 50,
   "metadata": {},
   "outputs": [],
   "source": [
    "data = transform(data)"
   ]
  },
  {
   "cell_type": "code",
   "execution_count": 52,
   "metadata": {},
   "outputs": [
    {
     "name": "stdout",
     "output_type": "stream",
     "text": [
      "<class 'pandas.core.frame.DataFrame'>\n",
      "Int64Index: 11247 entries, 0 to 25539\n",
      "Data columns (total 19 columns):\n",
      " #   Column     Non-Null Count  Dtype  \n",
      "---  ------     --------------  -----  \n",
      " 0   PAHs       11247 non-null  float64\n",
      " 1   PM10       11247 non-null  float64\n",
      " 2   C2H3NO5    11247 non-null  float64\n",
      " 3   O3         11247 non-null  float64\n",
      " 4   NH3        11247 non-null  float64\n",
      " 5   Pb         11247 non-null  float64\n",
      " 6   PRES       11247 non-null  float64\n",
      " 7   CFCs       11247 non-null  float64\n",
      " 8   SO2        11247 non-null  float64\n",
      " 9   NOx        11247 non-null  float64\n",
      " 10  warning    11247 non-null  float64\n",
      " 11  CO         11247 non-null  float64\n",
      " 12  CH4        11247 non-null  float64\n",
      " 13  PM2.5      11247 non-null  float64\n",
      " 14  H2CO       11247 non-null  float64\n",
      " 15  TEMP       11247 non-null  float64\n",
      " 16  latitude   11247 non-null  float64\n",
      " 17  longitude  11247 non-null  float64\n",
      " 18  station    11247 non-null  object \n",
      "dtypes: float64(18), object(1)\n",
      "memory usage: 2.0+ MB\n"
     ]
    }
   ],
   "source": [
    "data.info()"
   ]
  },
  {
   "cell_type": "code",
   "execution_count": null,
   "metadata": {},
   "outputs": [],
   "source": []
  }
 ],
 "metadata": {
  "kernelspec": {
   "display_name": "Python 3 (ipykernel)",
   "language": "python",
   "name": "python3"
  },
  "language_info": {
   "codemirror_mode": {
    "name": "ipython",
    "version": 3
   },
   "file_extension": ".py",
   "mimetype": "text/x-python",
   "name": "python",
   "nbconvert_exporter": "python",
   "pygments_lexer": "ipython3",
   "version": "3.10.7"
  },
  "vscode": {
   "interpreter": {
    "hash": "5c8e42a3dac0faee0e0c2883c0f973475060a82b3b025487599155f21df6ee92"
   }
  }
 },
 "nbformat": 4,
 "nbformat_minor": 1
}